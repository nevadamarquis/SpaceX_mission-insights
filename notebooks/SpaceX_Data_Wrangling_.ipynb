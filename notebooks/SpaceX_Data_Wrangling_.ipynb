{
  "nbformat": 4,
  "nbformat_minor": 0,
  "metadata": {
    "colab": {
      "provenance": []
    },
    "kernelspec": {
      "name": "python3",
      "display_name": "Python 3"
    },
    "language_info": {
      "name": "python"
    }
  },
  "cells": [
    {
      "cell_type": "markdown",
      "source": [
        "# SpaceX Falcon 9 First Stage Landing Prediction\n",
        "\n",
        "## Module 1: Data Collection and Preparation\n",
        "\n",
        "### Project Overview\n",
        "In this project, we predict if the Falcon 9 first stage will successfully land. SpaceX advertises Falcon 9 rocket launches on its website at a cost of 62 million dollars, which is considerably less than other providers (costing upward of 165 million dollars) primarily because SpaceX can reuse the first stage.\n",
        "\n",
        "### Module Objective\n",
        "This notebook focuses on collecting and preparing SpaceX launch data for analysis. We will:\n",
        "1. Attempt to collect data from the SpaceX API\n",
        "2. Process the backup dataset provided by IBM\n",
        "3. Clean and transform the data for future modeling stages\n",
        "\n",
        "### Data Challenges\n",
        "The dataset is stored in an unusual format with stringified Python lists that need careful parsing and cleaning."
      ],
      "metadata": {
        "id": "V8NWJDBqOvgV"
      }
    },
    {
      "cell_type": "code",
      "source": [
        "# Import necessary libraries\n",
        "import pandas as pd\n",
        "import numpy as np\n",
        "import requests\n",
        "import json\n",
        "import re\n",
        "import ast\n",
        "import matplotlib.pyplot as plt\n",
        "import seaborn as sns\n",
        "from google.colab import files\n",
        "import warnings\n",
        "warnings.filterwarnings('ignore')\n",
        "\n",
        "# Set display options for better readability\n",
        "pd.set_option('display.max_columns', None)\n",
        "pd.set_option('display.max_rows', 20)\n",
        "pd.set_option('display.width', 1000)\n",
        "pd.set_option('display.precision', 3)\n",
        "\n",
        "print(\"🚀 Libraries successfully imported and environment configured.\")"
      ],
      "metadata": {
        "colab": {
          "base_uri": "https://localhost:8080/"
        },
        "id": "Sbn_W2ZLOwRj",
        "outputId": "d1e068aa-7db9-461d-811b-6e448eb92e61"
      },
      "execution_count": 1,
      "outputs": [
        {
          "output_type": "stream",
          "name": "stdout",
          "text": [
            "🚀 Libraries successfully imported and environment configured.\n"
          ]
        }
      ]
    },
    {
      "cell_type": "markdown",
      "source": [
        "## 1. Data Collection\n",
        "\n",
        "### 1.1 Accessing SpaceX API\n",
        "SpaceX provides a public API with information about all launches. We'll attempt to fetch this data first, though the API may have access limitations.\n",
        "\n",
        "### 1.2 Backup Dataset\n",
        "IBM has provided a compressed backup dataset (`dataset_part_1.csv`) as a workaround for live API issues. This dataset contains the necessary information, but is stored in a format that requires significant cleaning."
      ],
      "metadata": {
        "id": "bfhZ9s0iO1Wb"
      }
    },
    {
      "cell_type": "code",
      "source": [
        "# Function to load the dataset with basic validation\n",
        "def load_backup_dataset(file_path='dataset_part_1.csv'):\n",
        "    \"\"\"\n",
        "    Load the IBM-provided backup dataset.\n",
        "\n",
        "    Args:\n",
        "        file_path (str): Path to the CSV file\n",
        "\n",
        "    Returns:\n",
        "        pd.DataFrame: Raw dataset if loading is successful\n",
        "    \"\"\"\n",
        "    try:\n",
        "        df = pd.read_csv(file_path)\n",
        "        print(f\"✅ Dataset loaded successfully with shape: {df.shape}\")\n",
        "        return df\n",
        "    except FileNotFoundError:\n",
        "        print(f\"❌ File {file_path} not found. Please upload the file.\")\n",
        "        return None\n",
        "    except Exception as e:\n",
        "        print(f\"❌ Error loading file: {e}\")\n",
        "        return None\n",
        "\n",
        "# First try to load the file directly\n",
        "try:\n",
        "    df_cleaned_raw = pd.read_csv('dataset_part_1.csv')\n",
        "    print(f\"✅ Static dataset loaded successfully with shape: {df_cleaned_raw.shape}\")\n",
        "except FileNotFoundError:\n",
        "    # If file not found, prompt for upload\n",
        "    print(\"❌ Static dataset not found. Please upload the dataset file:\")\n",
        "    from google.colab import files\n",
        "    uploaded = files.upload()\n",
        "\n",
        "    # Try to load the uploaded file\n",
        "    if uploaded:\n",
        "        file_name = next(iter(uploaded))\n",
        "        df_cleaned_raw = pd.read_csv(file_name)\n",
        "        print(f\"✅ Uploaded dataset loaded successfully with shape: {df_cleaned_raw.shape}\")\n",
        "\n",
        "# Display basic information about the dataset\n",
        "if df_cleaned_raw is not None:\n",
        "    print(\"\\n📊 Dataset Overview:\")\n",
        "    print(f\"Rows: {df_cleaned_raw.shape[0]}, Columns: {df_cleaned_raw.shape[1]}\")\n",
        "    print(\"\\n📋 Column names:\")\n",
        "    for col in df_cleaned_raw.columns:\n",
        "        print(f\"- {col}\")\n",
        "\n",
        "    # Display the first row to understand the structure\n",
        "    print(\"\\n🔍 Example of first row data structure:\")\n",
        "    for col in df_cleaned_raw.columns[:5]:  # Show just first 5 columns for brevity\n",
        "        print(f\"{col}: {type(df_cleaned_raw[col][0])} - {str(df_cleaned_raw[col][0])[:100]}...\")\n",
        "else:\n",
        "    print(\"❌ Failed to load the dataset. Please check file availability.\")"
      ],
      "metadata": {
        "colab": {
          "base_uri": "https://localhost:8080/"
        },
        "id": "poi8Od0_PToT",
        "outputId": "06d552cd-c95b-46c2-c9c1-8b5a201af0d5"
      },
      "execution_count": 3,
      "outputs": [
        {
          "output_type": "stream",
          "name": "stdout",
          "text": [
            "✅ Static dataset loaded successfully with shape: (1, 17)\n",
            "\n",
            "📊 Dataset Overview:\n",
            "Rows: 1, Columns: 17\n",
            "\n",
            "📋 Column names:\n",
            "- FlightNumber\n",
            "- Date\n",
            "- BoosterVersion\n",
            "- PayloadMass\n",
            "- Orbit\n",
            "- LaunchSite\n",
            "- Outcome\n",
            "- Flights\n",
            "- GridFins\n",
            "- Reused\n",
            "- Legs\n",
            "- LandingPad\n",
            "- Block\n",
            "- ReusedCount\n",
            "- Serial\n",
            "- Longitude\n",
            "- Latitude\n",
            "\n",
            "🔍 Example of first row data structure:\n",
            "FlightNumber: <class 'numpy.int64'> - 1...\n",
            "Date: <class 'str'> - [datetime.date(2006, 3, 24), datetime.date(2007, 3, 21), datetime.date(2008, 9, 28), datetime.date(2...\n",
            "BoosterVersion: <class 'str'> - ['Falcon 1', 'Falcon 1', 'Falcon 1', 'Falcon 1', 'Falcon 9', 'Falcon 9', 'Falcon 9', 'Falcon 9', 'Fa...\n",
            "PayloadMass: <class 'str'> - [[   20.        ]\n",
            " [ 5919.16534091]\n",
            " [  165.        ]\n",
            " [  200.        ]\n",
            " [ 5919.16534091]\n",
            " [  525.  ...\n",
            "Orbit: <class 'str'> - ['LEO', 'LEO', 'LEO', 'LEO', 'LEO', 'LEO', 'ISS', 'PO', 'GTO', 'GTO', 'ISS', 'LEO', 'GTO', 'GTO', 'I...\n"
          ]
        }
      ]
    },
    {
      "cell_type": "markdown",
      "source": [
        "## 2. Data Cleaning Approach\n",
        "\n",
        "### Cleaning Challenges\n",
        "The dataset presents several challenges:\n",
        "- Each column contains a string representation of a Python list\n",
        "- Different columns have different data types within these lists (strings, booleans, numbers, None values)\n",
        "- Some columns need to be split into multiple columns for analysis\n",
        "\n",
        "### Cleaning Strategy\n",
        "We'll implement a systematic approach:\n",
        "1. Create helper functions for common cleaning tasks\n",
        "2. Process each column individually based on its content\n",
        "3. Validate the cleaned data before combining into the final dataset"
      ],
      "metadata": {
        "id": "mfSbmVmnQFTM"
      }
    },
    {
      "cell_type": "code",
      "source": [
        "# Helper function to safely parse Python list strings\n",
        "def parse_python_list_str(raw_str):\n",
        "    \"\"\"\n",
        "    Safely parse a string representation of a Python list.\n",
        "\n",
        "    Args:\n",
        "        raw_str (str): String representation of a Python list\n",
        "\n",
        "    Returns:\n",
        "        list: The parsed list or None if parsing fails\n",
        "    \"\"\"\n",
        "    if not isinstance(raw_str, str):\n",
        "        return None\n",
        "\n",
        "    try:\n",
        "        return ast.literal_eval(raw_str.strip())\n",
        "    except Exception as e:\n",
        "        print(f\"❌ Error parsing string: {e}\")\n",
        "        return None\n",
        "\n",
        "# Helper function to clean numeric columns\n",
        "def clean_numeric_column(raw_column):\n",
        "    \"\"\"\n",
        "    Convert a list of mixed values to numeric, replacing non-numeric with NaN.\n",
        "\n",
        "    Args:\n",
        "        raw_column (list): List of values to clean\n",
        "\n",
        "    Returns:\n",
        "        list: List with non-numeric values replaced by np.nan\n",
        "    \"\"\"\n",
        "    return [float(x) if isinstance(x, (float, int)) else np.nan for x in raw_column]\n",
        "\n",
        "# Function to preview column content\n",
        "def preview_column(df, column_name, max_chars=300):\n",
        "    \"\"\"\n",
        "    Preview a column's content and data type.\n",
        "\n",
        "    Args:\n",
        "        df (pd.DataFrame): DataFrame containing the column\n",
        "        column_name (str): Name of the column to preview\n",
        "        max_chars (int): Maximum characters to display\n",
        "\n",
        "    Returns:\n",
        "        str: The raw value of the first row for that column\n",
        "    \"\"\"\n",
        "    raw_value = df[column_name][0]\n",
        "    print(f\"🔍 Column: {column_name}\")\n",
        "    print(f\"🔍 Data type: {type(raw_value)}\")\n",
        "    print(f\"🔍 First {max_chars} characters:\\n{str(raw_value)[:max_chars]}\")\n",
        "\n",
        "    return raw_value\n",
        "\n",
        "print(\"✅ Utility functions defined for data cleaning\")"
      ],
      "metadata": {
        "colab": {
          "base_uri": "https://localhost:8080/"
        },
        "id": "FXx_CVc5QGBb",
        "outputId": "72d2d871-82dd-4880-f24e-23982b95ec31"
      },
      "execution_count": 4,
      "outputs": [
        {
          "output_type": "stream",
          "name": "stdout",
          "text": [
            "✅ Utility functions defined for data cleaning\n"
          ]
        }
      ]
    },
    {
      "cell_type": "markdown",
      "source": [
        "## 3. Column-by-Column Data Cleaning\n",
        "\n",
        "We'll now process each column individually using our utility functions. For each column, we'll:\n",
        "1. Inspect the raw data structure\n",
        "2. Parse the stringified list\n",
        "3. Apply appropriate transformations based on the data type\n",
        "4. Validate the cleaned data\n",
        "\n",
        "This approach allows us to handle the specific requirements of each column and ensures high-quality data for our analysis."
      ],
      "metadata": {
        "id": "hVNQDqOxQQ37"
      }
    },
    {
      "cell_type": "code",
      "source": [
        "# 4.1 PayloadMass Column Cleaning\n",
        "print(\"\\n🧹 Cleaning PayloadMass Column...\")\n",
        "safe_column = 'PayloadMass'\n",
        "raw_value = preview_column(df_cleaned_raw, safe_column)\n",
        "\n",
        "# Extract all numbers using regex for PayloadMass\n",
        "print(\"\\nExtracting numeric values using regex pattern matching...\")\n",
        "numbers = re.findall(r\"[-+]?\\d*\\.\\d+|\\d+\", raw_value)\n",
        "flat_payloads = [float(num) for num in numbers]\n",
        "\n",
        "# Preview the extracted payload mass values\n",
        "print(\"\\n✅ Flattened PayloadMass values (first 5):\", flat_payloads[:5])\n",
        "print(\"🧪 Type of first value:\", type(flat_payloads[0]))\n",
        "print(f\"📊 Total extracted values: {len(flat_payloads)}\")\n",
        "\n",
        "# Basic statistics for payload mass\n",
        "payloads_array = np.array(flat_payloads)\n",
        "print(f\"\\n📊 Payload Mass Statistics:\")\n",
        "print(f\"Min: {payloads_array.min():.2f} kg\")\n",
        "print(f\"Max: {payloads_array.max():.2f} kg\")\n",
        "print(f\"Mean: {payloads_array.mean():.2f} kg\")\n",
        "print(f\"Median: {np.median(payloads_array):.2f} kg\")"
      ],
      "metadata": {
        "colab": {
          "base_uri": "https://localhost:8080/"
        },
        "id": "b1s8BPxdQR9p",
        "outputId": "4a18b050-1b5d-4051-f592-9a1dd1f6d2ff"
      },
      "execution_count": 5,
      "outputs": [
        {
          "output_type": "stream",
          "name": "stdout",
          "text": [
            "\n",
            "🧹 Cleaning PayloadMass Column...\n",
            "🔍 Column: PayloadMass\n",
            "🔍 Data type: <class 'str'>\n",
            "🔍 First 300 characters:\n",
            "[[   20.        ]\n",
            " [ 5919.16534091]\n",
            " [  165.        ]\n",
            " [  200.        ]\n",
            " [ 5919.16534091]\n",
            " [  525.        ]\n",
            " [  677.        ]\n",
            " [  500.        ]\n",
            " [ 3170.        ]\n",
            " [ 3325.        ]\n",
            " [ 2296.        ]\n",
            " [ 1316.        ]\n",
            " [ 4535.        ]\n",
            " [ 4428.        ]\n",
            " [ 2216.        ]\n",
            " [ 2395.        ]\n",
            " [  570.    \n",
            "\n",
            "Extracting numeric values using regex pattern matching...\n",
            "\n",
            "✅ Flattened PayloadMass values (first 5): [20.0, 5919.16534091, 165.0, 200.0, 5919.16534091]\n",
            "🧪 Type of first value: <class 'float'>\n",
            "📊 Total extracted values: 94\n",
            "\n",
            "📊 Payload Mass Statistics:\n",
            "Min: 20.00 kg\n",
            "Max: 15600.00 kg\n",
            "Mean: 5919.17 kg\n",
            "Median: 4648.00 kg\n"
          ]
        }
      ]
    },
    {
      "cell_type": "code",
      "source": [
        "# 4.2 Orbit Column Cleaning\n",
        "print(\"\\n🧹 Cleaning Orbit Column...\")\n",
        "safe_column = 'Orbit'\n",
        "raw_value = preview_column(df_cleaned_raw, safe_column)\n",
        "\n",
        "# Parse the orbit list using the ast module\n",
        "try:\n",
        "    parsed_orbit = parse_python_list_str(raw_value)\n",
        "    print(\"\\n✅ Parsed Orbit values (first 5):\", parsed_orbit[:5])\n",
        "    print(\"🧪 Type of first value:\", type(parsed_orbit[0]))\n",
        "\n",
        "    # Count the frequency of each orbit type\n",
        "    orbit_counts = {}\n",
        "    for orbit in parsed_orbit:\n",
        "        orbit_counts[orbit] = orbit_counts.get(orbit, 0) + 1\n",
        "\n",
        "    print(\"\\n📊 Orbit Type Distribution:\")\n",
        "    for orbit, count in sorted(orbit_counts.items(), key=lambda x: x[1], reverse=True):\n",
        "        print(f\"- {orbit}: {count} launches\")\n",
        "\n",
        "except Exception as e:\n",
        "    print(\"\\n❌ Error during orbit parsing:\", e)"
      ],
      "metadata": {
        "colab": {
          "base_uri": "https://localhost:8080/"
        },
        "id": "MJGeLnhOQrTB",
        "outputId": "5cadfc03-e7e2-4783-8fd1-8ed18fd71476"
      },
      "execution_count": 6,
      "outputs": [
        {
          "output_type": "stream",
          "name": "stdout",
          "text": [
            "\n",
            "🧹 Cleaning Orbit Column...\n",
            "🔍 Column: Orbit\n",
            "🔍 Data type: <class 'str'>\n",
            "🔍 First 300 characters:\n",
            "['LEO', 'LEO', 'LEO', 'LEO', 'LEO', 'LEO', 'ISS', 'PO', 'GTO', 'GTO', 'ISS', 'LEO', 'GTO', 'GTO', 'ISS', 'ISS', 'ES-L1', 'ISS', 'GTO', 'ISS', 'LEO', 'PO', 'GTO', 'ISS', 'GTO', 'GTO', 'ISS', 'GTO', 'GTO', 'PO', 'ISS', 'GTO', 'GTO', 'LEO', 'GTO', 'ISS', 'GTO', 'PO', 'GTO', 'ISS', 'SSO', 'LEO', 'PO', '\n",
            "\n",
            "✅ Parsed Orbit values (first 5): ['LEO', 'LEO', 'LEO', 'LEO', 'LEO']\n",
            "🧪 Type of first value: <class 'str'>\n",
            "\n",
            "📊 Orbit Type Distribution:\n",
            "- GTO: 27 launches\n",
            "- ISS: 21 launches\n",
            "- VLEO: 14 launches\n",
            "- LEO: 11 launches\n",
            "- PO: 9 launches\n",
            "- SSO: 5 launches\n",
            "- MEO: 3 launches\n",
            "- ES-L1: 1 launches\n",
            "- HEO: 1 launches\n",
            "- SO: 1 launches\n",
            "- GEO: 1 launches\n"
          ]
        }
      ]
    },
    {
      "cell_type": "markdown",
      "source": [
        "### Understanding Orbit Types\n",
        "\n",
        "The orbit types in our dataset reflect the destination of the payload:\n",
        "\n",
        "1. **LEO (Low Earth Orbit)**:\n",
        "   - Altitude: 180-2,000 km\n",
        "   - Used for: Earth observation, military, some communication satellites\n",
        "   \n",
        "2. **GTO (Geostationary Transfer Orbit)**:\n",
        "   - Elliptical orbit used to reach GEO\n",
        "   - Used for: Communication satellites being positioned to geostationary orbit\n",
        "   \n",
        "3. **ISS (International Space Station)**:\n",
        "   - Specific LEO where the ISS is located\n",
        "   - Altitude: ~400 km\n",
        "   \n",
        "4. **PO (Polar Orbit)**:\n",
        "   - Passes over Earth's poles\n",
        "   - Used for: Earth observation, weather satellites\n",
        "   \n",
        "5. **ES-L1 (Earth-Sun Lagrangian Point 1)**:\n",
        "   - Special point between Earth and Sun\n",
        "   - Used for: Solar observation satellites\n",
        "\n",
        "The orbit type affects the mission's energy requirements and may influence landing success rates."
      ],
      "metadata": {
        "id": "2s5mEv2rQx6y"
      }
    },
    {
      "cell_type": "code",
      "source": [
        "# 4.3 LaunchSite Column Cleaning\n",
        "print(\"\\n🧹 Cleaning LaunchSite Column...\")\n",
        "safe_column = 'LaunchSite'\n",
        "raw_value = preview_column(df_cleaned_raw, safe_column)\n",
        "\n",
        "# Parse the launch site list\n",
        "try:\n",
        "    parsed_site = parse_python_list_str(raw_value)\n",
        "    print(\"\\n✅ Parsed LaunchSite values (first 5):\", parsed_site[:5])\n",
        "    print(\"✅ Type of first value:\", type(parsed_site[0]))\n",
        "\n",
        "    # Count the frequency of each launch site\n",
        "    site_counts = {}\n",
        "    for site in parsed_site:\n",
        "        site_counts[site] = site_counts.get(site, 0) + 1\n",
        "\n",
        "    print(\"\\n📊 Launch Site Distribution:\")\n",
        "    for site, count in sorted(site_counts.items(), key=lambda x: x[1], reverse=True):\n",
        "        print(f\"- {site}: {count} launches\")\n",
        "\n",
        "except Exception as e:\n",
        "    print(\"\\n❌ Error during LaunchSite parsing:\", e)"
      ],
      "metadata": {
        "colab": {
          "base_uri": "https://localhost:8080/"
        },
        "id": "Bo07g4s7Q4UL",
        "outputId": "a2105daf-2f00-4e40-ddab-cc627e1e6f44"
      },
      "execution_count": 7,
      "outputs": [
        {
          "output_type": "stream",
          "name": "stdout",
          "text": [
            "\n",
            "🧹 Cleaning LaunchSite Column...\n",
            "🔍 Column: LaunchSite\n",
            "🔍 Data type: <class 'str'>\n",
            "🔍 First 300 characters:\n",
            "['Kwajalein Atoll', 'Kwajalein Atoll', 'Kwajalein Atoll', 'Kwajalein Atoll', 'CCSFS SLC 40', 'CCSFS SLC 40', 'CCSFS SLC 40', 'VAFB SLC 4E', 'CCSFS SLC 40', 'CCSFS SLC 40', 'CCSFS SLC 40', 'CCSFS SLC 40', 'CCSFS SLC 40', 'CCSFS SLC 40', 'CCSFS SLC 40', 'CCSFS SLC 40', 'CCSFS SLC 40', 'CCSFS SLC 40', \n",
            "\n",
            "✅ Parsed LaunchSite values (first 5): ['Kwajalein Atoll', 'Kwajalein Atoll', 'Kwajalein Atoll', 'Kwajalein Atoll', 'CCSFS SLC 40']\n",
            "✅ Type of first value: <class 'str'>\n",
            "\n",
            "📊 Launch Site Distribution:\n",
            "- CCSFS SLC 40: 55 launches\n",
            "- KSC LC 39A: 22 launches\n",
            "- VAFB SLC 4E: 13 launches\n",
            "- Kwajalein Atoll: 4 launches\n"
          ]
        }
      ]
    },
    {
      "cell_type": "markdown",
      "source": [
        "### Understanding Launch Sites\n",
        "\n",
        "SpaceX uses several launch sites for Falcon 9 missions:\n",
        "\n",
        "1. **CCSFS SLC 40** (Cape Canaveral Space Force Station Space Launch Complex 40):\n",
        "   - Location: Florida, East Coast\n",
        "   - Used for: Most LEO, GTO, and ISS missions\n",
        "   \n",
        "2. **KSC LC 39A** (Kennedy Space Center Launch Complex 39A):\n",
        "   - Historic NASA launch pad used for Apollo and Shuttle missions\n",
        "   - Now leased by SpaceX for Falcon 9 and Falcon Heavy\n",
        "   \n",
        "3. **VAFB SLC 4E** (Vandenberg Air Force Base Space Launch Complex 4E):\n",
        "   - Location: California, West Coast\n",
        "   - Used for: Polar orbits and sun-synchronous orbits\n",
        "   \n",
        "4. **Kwajalein Atoll**:\n",
        "   - Remote location in the Marshall Islands, Pacific Ocean\n",
        "   - Used for: Early Falcon 1 launches\n",
        "\n",
        "The launch site has significant implications for available landing options and may affect landing success probability."
      ],
      "metadata": {
        "id": "HRLV-UFgQ_4U"
      }
    },
    {
      "cell_type": "code",
      "source": [
        "# 4.4 LandingPad Column Cleaning\n",
        "print(\"\\n🧹 Cleaning LandingPad Column...\")\n",
        "safe_column = 'LandingPad'\n",
        "raw_value = preview_column(df_cleaned_raw, safe_column)\n",
        "\n",
        "# Parse landing pad data\n",
        "try:\n",
        "    parsed_pad = parse_python_list_str(raw_value)\n",
        "    print(\"\\n✅ Parsed LandingPad values (first 5):\", parsed_pad[:5])\n",
        "    print(\"📘 Type of first value:\", type(parsed_pad[0]))\n",
        "\n",
        "    # Count None entries\n",
        "    none_count = sum(1 for x in parsed_pad if x is None)\n",
        "    print(f\"\\n🧮 Number of None entries: {none_count} ({none_count/len(parsed_pad)*100:.1f}%)\")\n",
        "\n",
        "    # Count unique landing pads (excluding None)\n",
        "    pad_values = [x for x in parsed_pad if x is not None]\n",
        "    unique_pads = set(pad_values)\n",
        "    print(f\"🧮 Number of unique landing pads: {len(unique_pads)}\")\n",
        "\n",
        "    # Preview hash IDs (these are SpaceX's internal identifiers)\n",
        "    hash_ids = [x for x in parsed_pad if isinstance(x, str)]\n",
        "    print(\"\\n🔑 Sample of landing pad IDs:\", hash_ids[:5])\n",
        "    print(f\"🧮 Total landing pad IDs: {len(hash_ids)}\")\n",
        "\n",
        "except Exception as e:\n",
        "    print(\"\\n❌ Error during parsing:\", e)"
      ],
      "metadata": {
        "colab": {
          "base_uri": "https://localhost:8080/"
        },
        "id": "SWl0PviNRE6A",
        "outputId": "f4910b1d-d2c6-455f-b4ba-3c3d39a63159"
      },
      "execution_count": 8,
      "outputs": [
        {
          "output_type": "stream",
          "name": "stdout",
          "text": [
            "\n",
            "🧹 Cleaning LandingPad Column...\n",
            "🔍 Column: LandingPad\n",
            "🔍 Data type: <class 'str'>\n",
            "🔍 First 300 characters:\n",
            "[None, None, None, None, None, None, None, None, None, None, None, None, None, None, None, '5e9e3032383ecb761634e7cb', None, '5e9e3032383ecb761634e7cb', None, '5e9e3032383ecb6bb234e7ca', '5e9e3032383ecb267a34e7c7', '5e9e3033383ecbb9e534e7cc', '5e9e3032383ecb6bb234e7ca', '5e9e3032383ecb6bb234e7ca', '\n",
            "\n",
            "✅ Parsed LandingPad values (first 5): [None, None, None, None, None]\n",
            "📘 Type of first value: <class 'NoneType'>\n",
            "\n",
            "🧮 Number of None entries: 30 (31.9%)\n",
            "🧮 Number of unique landing pads: 5\n",
            "\n",
            "🔑 Sample of landing pad IDs: ['5e9e3032383ecb761634e7cb', '5e9e3032383ecb761634e7cb', '5e9e3032383ecb6bb234e7ca', '5e9e3032383ecb267a34e7c7', '5e9e3033383ecbb9e534e7cc']\n",
            "🧮 Total landing pad IDs: 64\n"
          ]
        }
      ]
    },
    {
      "cell_type": "markdown",
      "source": [
        "### Understanding Landing Pads\n",
        "\n",
        "The landing pad values in our dataset are represented by SpaceX's internal identifiers. These cryptic strings (like `5e9e3032383ecb761634e7cb`) correspond to specific landing locations:\n",
        "\n",
        "1. **ASDS (Autonomous Spaceport Drone Ship)**:\n",
        "   - Floating landing platforms in the ocean\n",
        "   - Examples: \"Of Course I Still Love You\" and \"Just Read the Instructions\"\n",
        "   - Used for: High-velocity missions that can't return to launch site\n",
        "   \n",
        "2. **RTLS (Return to Launch Site)**:\n",
        "   - Landing pads located at or near the launch site\n",
        "   - Examples: Landing Zone 1 and Landing Zone 2 at Cape Canaveral\n",
        "   - Used for: Lower-energy missions with sufficient fuel for boost-back\n",
        "   \n",
        "3. **None values**:\n",
        "   - Early missions without landing attempts\n",
        "   - Missions where landing was not planned\n",
        "   - Failed missions where landing wasn't attempted\n",
        "\n",
        "In later analysis, we'll need to map these IDs to actual landing pad types for more meaningful insights."
      ],
      "metadata": {
        "id": "NdxZ7W8QRRtg"
      }
    },
    {
      "cell_type": "code",
      "source": [
        "# 4.5 Outcome Column Cleaning\n",
        "print(\"\\n🧹 Cleaning Outcome Column...\")\n",
        "safe_column = 'Outcome'\n",
        "raw_value = preview_column(df_cleaned_raw, safe_column)\n",
        "\n",
        "# Parse outcome data\n",
        "try:\n",
        "    parsed_outcome = parse_python_list_str(raw_value)\n",
        "    print(\"\\n✅ Parsed Outcome values (first 5):\", parsed_outcome[:5])\n",
        "    print(\"🧬 Type of first value:\", type(parsed_outcome[0]))\n",
        "\n",
        "    # Split outcomes into success and type\n",
        "    # Format is typically like \"True ASDS\" or \"False Ocean\"\n",
        "    outcome_split = [entry.split() if isinstance(entry, str) else [None, None] for entry in parsed_outcome]\n",
        "    landing_success = [item[0] if item else None for item in outcome_split]\n",
        "    landing_type = [item[1] if len(item) > 1 else None for item in outcome_split]\n",
        "\n",
        "    print(\"\\n🚀 First 5 Landing Success values:\", landing_success[:5])\n",
        "    print(\"🛰️ First 5 Landing Type values:\", landing_type[:5])\n",
        "\n",
        "    # Clean landing success values to boolean\n",
        "    landing_success_clean = [x.strip() if isinstance(x, str) else x for x in landing_success]\n",
        "    landing_success_clean = [None if x in ['None', 'None None'] else x for x in landing_success_clean]\n",
        "    landing_success_bool = [True if x == 'True' else False if x == 'False' else None for x in landing_success_clean]\n",
        "\n",
        "    print(\"\\n🧹 First 5 cleaned landing success (boolean):\", landing_success_bool[:5])\n",
        "\n",
        "    # Count success, failure, and None values\n",
        "    success_count = landing_success_bool.count(True)\n",
        "    failure_count = landing_success_bool.count(False)\n",
        "    none_count = landing_success_bool.count(None)\n",
        "\n",
        "    print(f\"\\n📊 Landing Outcome Distribution:\")\n",
        "    print(f\"- Successful landings: {success_count} ({success_count/len(landing_success_bool)*100:.1f}%)\")\n",
        "    print(f\"- Failed landings: {failure_count} ({failure_count/len(landing_success_bool)*100:.1f}%)\")\n",
        "    print(f\"- No landing attempt: {none_count} ({none_count/len(landing_success_bool)*100:.1f}%)\")\n",
        "\n",
        "    # Count landing types\n",
        "    landing_type_counts = {}\n",
        "    for lt in landing_type:\n",
        "        if lt is not None:\n",
        "            landing_type_counts[lt] = landing_type_counts.get(lt, 0) + 1\n",
        "\n",
        "    print(f\"\\n📊 Landing Type Distribution:\")\n",
        "    for lt, count in sorted(landing_type_counts.items(), key=lambda x: x[1], reverse=True):\n",
        "        print(f\"- {lt}: {count} attempts\")\n",
        "\n",
        "except Exception as e:\n",
        "    print(\"\\n❌ Error during parsing:\", e)"
      ],
      "metadata": {
        "colab": {
          "base_uri": "https://localhost:8080/"
        },
        "id": "nNgAecJIRXO3",
        "outputId": "b0c8d3c6-e4ed-4b1d-d985-2b8cdb4972c2"
      },
      "execution_count": 9,
      "outputs": [
        {
          "output_type": "stream",
          "name": "stdout",
          "text": [
            "\n",
            "🧹 Cleaning Outcome Column...\n",
            "🔍 Column: Outcome\n",
            "🔍 Data type: <class 'str'>\n",
            "🔍 First 300 characters:\n",
            "['None None', 'None None', 'None None', 'None None', 'None None', 'None None', 'None None', 'False Ocean', 'None None', 'None None', 'True Ocean', 'True Ocean', 'None None', 'None None', 'False Ocean', 'False ASDS', 'True Ocean', 'False ASDS', 'None None', 'None ASDS', 'True RTLS', 'False ASDS', 'Fa\n",
            "\n",
            "✅ Parsed Outcome values (first 5): ['None None', 'None None', 'None None', 'None None', 'None None']\n",
            "🧬 Type of first value: <class 'str'>\n",
            "\n",
            "🚀 First 5 Landing Success values: ['None', 'None', 'None', 'None', 'None']\n",
            "🛰️ First 5 Landing Type values: ['None', 'None', 'None', 'None', 'None']\n",
            "\n",
            "🧹 First 5 cleaned landing success (boolean): [None, None, None, None, None]\n",
            "\n",
            "📊 Landing Outcome Distribution:\n",
            "- Successful landings: 60 (63.8%)\n",
            "- Failed landings: 9 (9.6%)\n",
            "- No landing attempt: 25 (26.6%)\n",
            "\n",
            "📊 Landing Type Distribution:\n",
            "- ASDS: 49 attempts\n",
            "- None: 23 attempts\n",
            "- RTLS: 15 attempts\n",
            "- Ocean: 7 attempts\n"
          ]
        }
      ]
    },
    {
      "cell_type": "markdown",
      "source": [
        "### Understanding Landing Outcomes\n",
        "\n",
        "The Outcome column combines two critical pieces of information:\n",
        "\n",
        "1. **Landing Success** (True/False/None):\n",
        "   - **True**: Successful landing and recovery of the first stage\n",
        "   - **False**: Attempted landing that failed\n",
        "   - **None**: No landing attempt was made\n",
        "   \n",
        "2. **Landing Type** (ASDS/RTLS/Ocean):\n",
        "   - **ASDS** (Autonomous Spaceport Drone Ship): Landing on a floating platform at sea\n",
        "   - **RTLS** (Return to Launch Site): Landing at a ground pad near the launch site\n",
        "   - **Ocean**: Controlled descent into ocean (early technology demonstrations)\n",
        "   - **None**: No landing attempt\n",
        "\n",
        "For our prediction model, we'll separate these into two distinct features:\n",
        "- `LandingSuccess`: Boolean indicating whether the landing succeeded\n",
        "- `LandingType`: Categorical variable indicating the landing method\n",
        "\n",
        "This separation allows us to analyze how landing type affects success probability."
      ],
      "metadata": {
        "id": "B43ym5BKRfp_"
      }
    },
    {
      "cell_type": "code",
      "source": [
        "# 4.6 Boolean Columns Cleaning (GridFins, Legs, Reused)\n",
        "boolean_columns = ['GridFins', 'Legs', 'Reused']\n",
        "parsed_booleans = {}\n",
        "\n",
        "print(\"\\n🧹 Cleaning Boolean Feature Columns...\")\n",
        "for col in boolean_columns:\n",
        "    print(f\"\\n----- {col} Column -----\")\n",
        "    raw_value = preview_column(df_cleaned_raw, col)\n",
        "\n",
        "    try:\n",
        "        parsed_value = parse_python_list_str(raw_value)\n",
        "        parsed_booleans[col] = parsed_value\n",
        "        print(f\"\\n✅ Parsed {col} values (first 5): {parsed_value[:5]}\")\n",
        "        print(f\"📘 Type of first value: {type(parsed_value[0])}\")\n",
        "\n",
        "        # Count True and False values\n",
        "        true_count = parsed_value.count(True)\n",
        "        false_count = parsed_value.count(False)\n",
        "\n",
        "        print(f\"\\n📊 {col} Distribution:\")\n",
        "        print(f\"- True: {true_count} ({true_count/len(parsed_value)*100:.1f}%)\")\n",
        "        print(f\"- False: {false_count} ({false_count/len(parsed_value)*100:.1f}%)\")\n",
        "\n",
        "    except Exception as e:\n",
        "        print(f\"\\n❌ Error parsing {col}: {e}\")"
      ],
      "metadata": {
        "colab": {
          "base_uri": "https://localhost:8080/"
        },
        "id": "E2uIsGSKRhmF",
        "outputId": "a77bdea6-d089-43ab-8c91-e47f7d67b7f5"
      },
      "execution_count": 10,
      "outputs": [
        {
          "output_type": "stream",
          "name": "stdout",
          "text": [
            "\n",
            "🧹 Cleaning Boolean Feature Columns...\n",
            "\n",
            "----- GridFins Column -----\n",
            "🔍 Column: GridFins\n",
            "🔍 Data type: <class 'str'>\n",
            "🔍 First 300 characters:\n",
            "[False, False, False, False, False, False, False, False, False, False, False, False, False, False, False, True, True, True, False, True, True, True, True, True, True, True, True, True, True, True, True, False, True, True, False, True, True, True, False, True, True, True, True, True, True, True, True\n",
            "\n",
            "✅ Parsed GridFins values (first 5): [False, False, False, False, False]\n",
            "📘 Type of first value: <class 'bool'>\n",
            "\n",
            "📊 GridFins Distribution:\n",
            "- True: 70 (74.5%)\n",
            "- False: 24 (25.5%)\n",
            "\n",
            "----- Legs Column -----\n",
            "🔍 Column: Legs\n",
            "🔍 Data type: <class 'str'>\n",
            "🔍 First 300 characters:\n",
            "[False, False, False, False, False, False, False, False, False, False, True, True, False, False, False, True, True, True, False, True, True, True, True, True, True, True, True, True, True, True, True, False, True, True, False, True, True, True, False, True, True, True, True, True, True, True, False,\n",
            "\n",
            "✅ Parsed Legs values (first 5): [False, False, False, False, False]\n",
            "📘 Type of first value: <class 'bool'>\n",
            "\n",
            "📊 Legs Distribution:\n",
            "- True: 71 (75.5%)\n",
            "- False: 23 (24.5%)\n",
            "\n",
            "----- Reused Column -----\n",
            "🔍 Column: Reused\n",
            "🔍 Data type: <class 'str'>\n",
            "🔍 First 300 characters:\n",
            "[False, False, False, False, False, False, False, False, False, False, False, False, False, False, False, False, False, False, False, False, False, False, False, False, False, False, False, False, False, False, False, False, True, False, False, False, True, False, False, False, False, False, False, \n",
            "\n",
            "✅ Parsed Reused values (first 5): [False, False, False, False, False]\n",
            "📘 Type of first value: <class 'bool'>\n",
            "\n",
            "📊 Reused Distribution:\n",
            "- True: 37 (39.4%)\n",
            "- False: 57 (60.6%)\n"
          ]
        }
      ]
    },
    {
      "cell_type": "markdown",
      "source": [
        "### Understanding Landing Technologies\n",
        "\n",
        "The boolean columns represent key technologies used in SpaceX's landing system:\n",
        "\n",
        "1. **GridFins**:\n",
        "   - Lattice-like control surfaces deployed during descent\n",
        "   - Function: Provide aerodynamic stability and steering during reentry\n",
        "   - Impact: Critical for precision landing, especially for ASDS landings\n",
        "   \n",
        "2. **Legs**:\n",
        "   - Deployable landing legs that extend before touchdown\n",
        "   - Function: Support the booster upon landing and absorb impact\n",
        "   - Impact: Required for any landing attempt (RTLS or ASDS)\n",
        "   \n",
        "3. **Reused**:\n",
        "   - Indicates whether the booster has flown before\n",
        "   - Function: Marker for SpaceX's reusability program\n",
        "   - Impact: May affect reliability and performance characteristics\n",
        "\n",
        "These technologies evolved over time, with early Falcon 9 missions not equipped with grid fins or landing legs. Understanding when these technologies were implemented helps track SpaceX's iterative development approach."
      ],
      "metadata": {
        "id": "EUR-JzTvRnPx"
      }
    },
    {
      "cell_type": "code",
      "source": [
        "# 4.7 Block Column Cleaning\n",
        "print(\"\\n🧹 Cleaning Block Column...\")\n",
        "safe_column = 'Block'\n",
        "raw_value = preview_column(df_cleaned_raw, safe_column)\n",
        "\n",
        "try:\n",
        "    parsed_block = parse_python_list_str(raw_value)\n",
        "    print(\"\\n✅ Parsed Block values (first 5):\", parsed_block[:5])\n",
        "    print(\"📘 Type of first value:\", type(parsed_block[0]))\n",
        "\n",
        "    # Replace None with NaN\n",
        "    cleaned_block = [int(x) if isinstance(x, int) else np.nan for x in parsed_block]\n",
        "    print(\"\\n✅ Cleaned Block values (first 10):\", cleaned_block[:10])\n",
        "\n",
        "    # Count frequency of each block version\n",
        "    block_counts = {}\n",
        "    for block in parsed_block:\n",
        "        if block is not None:\n",
        "            block_counts[block] = block_counts.get(block, 0) + 1\n",
        "\n",
        "    print(\"\\n📊 Block Version Distribution:\")\n",
        "    for block, count in sorted(block_counts.items()):\n",
        "        print(f\"- Block {block}: {count} launches\")\n",
        "\n",
        "    # Count None values\n",
        "    none_count = parsed_block.count(None)\n",
        "    print(f\"- None/Unknown: {none_count} launches\")\n",
        "\n",
        "except Exception as e:\n",
        "    print(\"\\n❌ Error parsing Block:\", e)"
      ],
      "metadata": {
        "colab": {
          "base_uri": "https://localhost:8080/"
        },
        "id": "M6Yy6TuyRoLc",
        "outputId": "d1ec3088-09a9-44af-ee57-e1a7a9e85994"
      },
      "execution_count": 11,
      "outputs": [
        {
          "output_type": "stream",
          "name": "stdout",
          "text": [
            "\n",
            "🧹 Cleaning Block Column...\n",
            "🔍 Column: Block\n",
            "🔍 Data type: <class 'str'>\n",
            "🔍 First 300 characters:\n",
            "[None, None, None, None, 1, 1, 1, 1, 1, 1, 1, 1, 1, 1, 1, 1, 1, 1, 1, 1, 1, 1, 1, 2, 2, 2, 2, 2, 3, 3, 3, 3, 2, 3, 3, 3, 3, 3, 3, 4, 3, 4, 4, 3, 4, 3, 3, 4, 3, 4, 4, 4, 4, 5, 4, 4, 5, 5, 5, 5, 5, 5, 5, 5, 5, 5, 5, 5, 5, 5, 5, 5, 5, 5, 5, 5, 5, 5, 5, 5, 5, 5, 5, 5, 5, 5, 5, 5, 5, 5, 5, 5, 5, 5]\n",
            "\n",
            "✅ Parsed Block values (first 5): [None, None, None, None, 1]\n",
            "📘 Type of first value: <class 'NoneType'>\n",
            "\n",
            "✅ Cleaned Block values (first 10): [nan, nan, nan, nan, 1, 1, 1, 1, 1, 1]\n",
            "\n",
            "📊 Block Version Distribution:\n",
            "- Block 1: 19 launches\n",
            "- Block 2: 6 launches\n",
            "- Block 3: 15 launches\n",
            "- Block 4: 11 launches\n",
            "- Block 5: 39 launches\n",
            "- None/Unknown: 4 launches\n"
          ]
        }
      ]
    },
    {
      "cell_type": "markdown",
      "source": [
        "### Understanding Falcon 9 Block Versions\n",
        "\n",
        "The Block number represents major iterations in the Falcon 9 design:\n",
        "\n",
        "1. **Block 1** (2010-2013):\n",
        "   - Original Falcon 9 design\n",
        "   - No landing capability\n",
        "   \n",
        "2. **Block 2** (2013-2014):\n",
        "   - Improved engines and structure\n",
        "   - Early landing experiments\n",
        "   \n",
        "3. **Block 3** (2015-2016):\n",
        "   - First with consistent landing attempts\n",
        "   - Improved thrust and fuel capacity\n",
        "   \n",
        "4. **Block 4** (2017):\n",
        "   - Transitional design\n",
        "   - Improved reusability features\n",
        "   \n",
        "5. **Block 5** (2018-Present):\n",
        "   - Designed for rapid reuse (10+ flights)\n",
        "   - Maximum thrust and reliability\n",
        "   - Optimized for human spaceflight\n",
        "\n",
        "The Block version is a critical factor for landing success prediction, as later versions incorporated significant improvements to the landing system."
      ],
      "metadata": {
        "id": "3q1LHNGGSBs8"
      }
    },
    {
      "cell_type": "code",
      "source": [
        "# 4.8 Serial Column Cleaning\n",
        "print(\"\\n🧹 Cleaning Serial Column...\")\n",
        "safe_column = 'Serial'\n",
        "raw_value = preview_column(df_cleaned_raw, safe_column)\n",
        "\n",
        "try:\n",
        "    parsed_serial = parse_python_list_str(raw_value)\n",
        "    print(\"\\n✅ Parsed Serial values (first 5):\", parsed_serial[:5])\n",
        "    print(\"🔢 Type of first value:\", type(parsed_serial[0]))\n",
        "\n",
        "    # Count frequency of early vs. later serial numbers\n",
        "    early_serials = [s for s in parsed_serial if s.startswith('Merlin')]\n",
        "    b_serials = [s for s in parsed_serial if s.startswith('B')]\n",
        "\n",
        "    print(f\"\\n📊 Serial Number Distribution:\")\n",
        "    print(f\"- Early Merlin series: {len(early_serials)} boosters\")\n",
        "    print(f\"- B-series boosters: {len(b_serials)} boosters\")\n",
        "\n",
        "    # Show some examples of each type\n",
        "    print(f\"\\n🔍 Example early serials: {early_serials}\")\n",
        "    print(f\"🔍 Example B-series serials (first 5): {b_serials[:5]}\")\n",
        "\n",
        "except Exception as e:\n",
        "    print(\"\\n❌ Error parsing Serial:\", e)"
      ],
      "metadata": {
        "colab": {
          "base_uri": "https://localhost:8080/"
        },
        "id": "C87IDC9VSENZ",
        "outputId": "4c5be581-1541-48c8-b4e0-6eb14536d3c2"
      },
      "execution_count": 12,
      "outputs": [
        {
          "output_type": "stream",
          "name": "stdout",
          "text": [
            "\n",
            "🧹 Cleaning Serial Column...\n",
            "🔍 Column: Serial\n",
            "🔍 Data type: <class 'str'>\n",
            "🔍 First 300 characters:\n",
            "['Merlin1A', 'Merlin2A', 'Merlin2C', 'Merlin3C', 'B0003', 'B0005', 'B0007', 'B1003', 'B1004', 'B1005', 'B1006', 'B1007', 'B1008', 'B1011', 'B1010', 'B1012', 'B1013', 'B1015', 'B1016', 'B1018', 'B1019', 'B1017', 'B1020', 'B1021', 'B1022', 'B1023', 'B1025', 'B1026', 'B1028', 'B1029', 'B1031', 'B1030',\n",
            "\n",
            "✅ Parsed Serial values (first 5): ['Merlin1A', 'Merlin2A', 'Merlin2C', 'Merlin3C', 'B0003']\n",
            "🔢 Type of first value: <class 'str'>\n",
            "\n",
            "📊 Serial Number Distribution:\n",
            "- Early Merlin series: 4 boosters\n",
            "- B-series boosters: 90 boosters\n",
            "\n",
            "🔍 Example early serials: ['Merlin1A', 'Merlin2A', 'Merlin2C', 'Merlin3C']\n",
            "🔍 Example B-series serials (first 5): ['B0003', 'B0005', 'B0007', 'B1003', 'B1004']\n"
          ]
        }
      ]
    },
    {
      "cell_type": "markdown",
      "source": [
        "### Understanding Booster Serial Numbers\n",
        "\n",
        "The Serial column contains the unique identifier for each Falcon 9 booster:\n",
        "\n",
        "1. **Merlin Series** (e.g., \"Merlin1A\", \"Merlin2C\"):\n",
        "   - Used for the earliest Falcon 9 launches\n",
        "   - Named after the Merlin engines that power the rocket\n",
        "   - These boosters were not designed for recovery\n",
        "   \n",
        "2. **B-Series** (e.g., \"B1015\", \"B1029\"):\n",
        "   - Modern Falcon 9 booster naming convention\n",
        "   - Format: \"B\" + sequential number\n",
        "   - The number after \"B\" increases with newer boosters\n",
        "   \n",
        "3. **Numbering Significance**:\n",
        "   - Lower numbers (B1001-B1020): Early reusability test boosters\n",
        "   - Mid-range (B1021-B1040): Transitional boosters with improved landing systems\n",
        "   - Higher numbers (B1041+): Modern boosters with mature landing technology\n",
        "\n",
        "Tracking boosters by serial number allows us to analyze the performance of specific boosters across multiple launches."
      ],
      "metadata": {
        "id": "6YBEi_g6SHqQ"
      }
    },
    {
      "cell_type": "code",
      "source": [
        "# 4.9 Coordinates (Longitude, Latitude) Cleaning\n",
        "coordinate_columns = ['Longitude', 'Latitude']\n",
        "parsed_coordinates = {}\n",
        "\n",
        "print(\"\\n🧹 Cleaning Coordinate Columns...\")\n",
        "for col in coordinate_columns:\n",
        "    print(f\"\\n----- {col} Column -----\")\n",
        "    raw_value = preview_column(df_cleaned_raw, col)\n",
        "\n",
        "    try:\n",
        "        parsed_value = parse_python_list_str(raw_value)\n",
        "        print(f\"\\n✅ Parsed {col} values (first 5): {parsed_value[:5]}\")\n",
        "        print(f\"📘 Type of first value: {type(parsed_value[0]) if parsed_value and len(parsed_value) > 0 else None}\")\n",
        "\n",
        "        # Clean coordinates (replace non-numeric with NaN)\n",
        "        cleaned_coords = clean_numeric_column(parsed_value)\n",
        "        parsed_coordinates[col] = cleaned_coords\n",
        "\n",
        "        print(f\"\\n✅ Cleaned {col} values (first 10): {cleaned_coords[:10]}\")\n",
        "\n",
        "        # Basic statistics\n",
        "        valid_coords = [x for x in cleaned_coords if not np.isnan(x)]\n",
        "        print(f\"\\n📊 {col} Statistics:\")\n",
        "        print(f\"- Valid values: {len(valid_coords)} ({len(valid_coords)/len(cleaned_coords)*100:.1f}%)\")\n",
        "        print(f\"- Min: {min(valid_coords):.6f}\")\n",
        "        print(f\"- Max: {max(valid_coords):.6f}\")\n",
        "        print(f\"- Mean: {sum(valid_coords)/len(valid_coords):.6f}\")\n",
        "\n",
        "    except Exception as e:\n",
        "        print(f\"\\n❌ Error parsing {col}: {e}\")"
      ],
      "metadata": {
        "colab": {
          "base_uri": "https://localhost:8080/"
        },
        "id": "-qQZRMhpSLI2",
        "outputId": "ba7a02c0-80f0-46ba-b190-e3f4ac5c7187"
      },
      "execution_count": 13,
      "outputs": [
        {
          "output_type": "stream",
          "name": "stdout",
          "text": [
            "\n",
            "🧹 Cleaning Coordinate Columns...\n",
            "\n",
            "----- Longitude Column -----\n",
            "🔍 Column: Longitude\n",
            "🔍 Data type: <class 'str'>\n",
            "🔍 First 300 characters:\n",
            "[167.7431292, 167.7431292, 167.7431292, 167.7431292, -80.577366, -80.577366, -80.577366, -120.610829, -80.577366, -80.577366, -80.577366, -80.577366, -80.577366, -80.577366, -80.577366, -80.577366, -80.577366, -80.577366, -80.577366, -80.577366, -80.577366, -120.610829, -80.577366, -80.577366, -80.5\n",
            "\n",
            "✅ Parsed Longitude values (first 5): [167.7431292, 167.7431292, 167.7431292, 167.7431292, -80.577366]\n",
            "📘 Type of first value: <class 'float'>\n",
            "\n",
            "✅ Cleaned Longitude values (first 10): [167.7431292, 167.7431292, 167.7431292, 167.7431292, -80.577366, -80.577366, -80.577366, -120.610829, -80.577366, -80.577366]\n",
            "\n",
            "📊 Longitude Statistics:\n",
            "- Valid values: 94 (100.0%)\n",
            "- Min: -120.610829\n",
            "- Max: 167.743129\n",
            "- Mean: -75.553302\n",
            "\n",
            "----- Latitude Column -----\n",
            "🔍 Column: Latitude\n",
            "🔍 Data type: <class 'str'>\n",
            "🔍 First 300 characters:\n",
            "[9.0477206, 9.0477206, 9.0477206, 9.0477206, 28.5618571, 28.5618571, 28.5618571, 34.632093, 28.5618571, 28.5618571, 28.5618571, 28.5618571, 28.5618571, 28.5618571, 28.5618571, 28.5618571, 28.5618571, 28.5618571, 28.5618571, 28.5618571, 28.5618571, 34.632093, 28.5618571, 28.5618571, 28.5618571, 28.56\n",
            "\n",
            "✅ Parsed Latitude values (first 5): [9.0477206, 9.0477206, 9.0477206, 9.0477206, 28.5618571]\n",
            "📘 Type of first value: <class 'float'>\n",
            "\n",
            "✅ Cleaned Latitude values (first 10): [9.0477206, 9.0477206, 9.0477206, 9.0477206, 28.5618571, 28.5618571, 28.5618571, 34.632093, 28.5618571, 28.5618571]\n",
            "\n",
            "📊 Latitude Statistics:\n",
            "- Valid values: 94 (100.0%)\n",
            "- Min: 9.047721\n",
            "- Max: 34.632093\n",
            "- Mean: 28.581782\n"
          ]
        }
      ]
    },
    {
      "cell_type": "markdown",
      "source": [
        "### Understanding Launch and Landing Coordinates\n",
        "\n",
        "The coordinate columns contain the geographical positions of launches and landings:\n",
        "\n",
        "1. **Longitude and Latitude**:\n",
        "   - Precise geographic coordinates in decimal degrees\n",
        "   - Format: Longitude (-180 to 180), Latitude (-90 to 90)\n",
        "   \n",
        "2. **Coordinate Clusters**:\n",
        "   - Launch sites (Cape Canaveral, Vandenberg, etc.)\n",
        "   - Landing pads (LZ-1, LZ-2)\n",
        "   - Drone ship positions in the Atlantic and Pacific\n",
        "   \n",
        "3. **Significance for Prediction**:\n",
        "   - Distance from launch to landing affects fuel requirements\n",
        "   - Ocean landing positions relate to mission energy profiles\n",
        "   - Different landing sites may have different success rates\n",
        "\n",
        "These coordinates will be particularly useful for the visualization module, where we'll plot launches and landings on interactive maps."
      ],
      "metadata": {
        "id": "RCTRuXVpSQyk"
      }
    },
    {
      "cell_type": "code",
      "source": [
        "# 5.1 Create Final Cleaned DataFrame\n",
        "print(\"\\n🔧 Creating final cleaned DataFrame...\")\n",
        "\n",
        "df_cleaned_final = pd.DataFrame({\n",
        "    # Core landing predictors\n",
        "    'GridFins': parsed_booleans['GridFins'],\n",
        "    'Legs': parsed_booleans['Legs'],\n",
        "    'Reused': parsed_booleans['Reused'],\n",
        "    'Block': cleaned_block,\n",
        "\n",
        "    # Location data\n",
        "    'Longitude': parsed_coordinates['Longitude'],\n",
        "    'Latitude': parsed_coordinates['Latitude'],\n",
        "\n",
        "    # Mission characteristics\n",
        "    'PayloadMass': flat_payloads,\n",
        "    'Orbit': parsed_orbit,\n",
        "    'LaunchSite': parsed_site,\n",
        "\n",
        "    # Landing information\n",
        "    'LandingPad': parsed_pad,\n",
        "    'LandingSuccess': landing_success_bool,\n",
        "    'LandingType': landing_type,\n",
        "\n",
        "    # Booster information\n",
        "    'Serial': parsed_serial\n",
        "})\n",
        "\n",
        "# Display basic information about the cleaned DataFrame\n",
        "print(f\"\\n✅ Final DataFrame created with shape: {df_cleaned_final.shape}\")\n",
        "print(\"\\n📊 Column data types:\")\n",
        "print(df_cleaned_final.dtypes)\n",
        "\n",
        "# Check for missing values\n",
        "missing_values = df_cleaned_final.isnull().sum()\n",
        "print(\"\\n📊 Missing Values by Column:\")\n",
        "print(missing_values)\n",
        "\n",
        "# Display sample of cleaned data\n",
        "print(\"\\n📋 Sample of cleaned data:\")\n",
        "print(df_cleaned_final.head())"
      ],
      "metadata": {
        "colab": {
          "base_uri": "https://localhost:8080/"
        },
        "id": "PjzvOB1PSgAm",
        "outputId": "5208c33d-ef77-4e2b-bffe-aa864d115b13"
      },
      "execution_count": 15,
      "outputs": [
        {
          "output_type": "stream",
          "name": "stdout",
          "text": [
            "\n",
            "🔧 Creating final cleaned DataFrame...\n",
            "\n",
            "✅ Final DataFrame created with shape: (94, 13)\n",
            "\n",
            "📊 Column data types:\n",
            "GridFins             bool\n",
            "Legs                 bool\n",
            "Reused               bool\n",
            "Block             float64\n",
            "Longitude         float64\n",
            "Latitude          float64\n",
            "PayloadMass       float64\n",
            "Orbit              object\n",
            "LaunchSite         object\n",
            "LandingPad         object\n",
            "LandingSuccess     object\n",
            "LandingType        object\n",
            "Serial             object\n",
            "dtype: object\n",
            "\n",
            "📊 Missing Values by Column:\n",
            "GridFins           0\n",
            "Legs               0\n",
            "Reused             0\n",
            "Block              4\n",
            "Longitude          0\n",
            "Latitude           0\n",
            "PayloadMass        0\n",
            "Orbit              0\n",
            "LaunchSite         0\n",
            "LandingPad        30\n",
            "LandingSuccess    25\n",
            "LandingType        0\n",
            "Serial             0\n",
            "dtype: int64\n",
            "\n",
            "📋 Sample of cleaned data:\n",
            "   GridFins   Legs  Reused  Block  Longitude  Latitude  PayloadMass Orbit       LaunchSite LandingPad LandingSuccess LandingType    Serial\n",
            "0     False  False   False    NaN    167.743     9.048       20.000   LEO  Kwajalein Atoll       None           None        None  Merlin1A\n",
            "1     False  False   False    NaN    167.743     9.048     5919.165   LEO  Kwajalein Atoll       None           None        None  Merlin2A\n",
            "2     False  False   False    NaN    167.743     9.048      165.000   LEO  Kwajalein Atoll       None           None        None  Merlin2C\n",
            "3     False  False   False    NaN    167.743     9.048      200.000   LEO  Kwajalein Atoll       None           None        None  Merlin3C\n",
            "4     False  False   False    1.0    -80.577    28.562     5919.165   LEO     CCSFS SLC 40       None           None        None     B0003\n"
          ]
        }
      ]
    },
    {
      "cell_type": "markdown",
      "source": [
        "## 4. Creating the Final Cleaned Dataset\n",
        "\n",
        "After cleaning each column individually, we now:\n",
        "1. Combine all cleaned columns into a single DataFrame\n",
        "2. Perform final validation checks\n",
        "3. Save the cleaned dataset for future modules\n",
        "4. Create basic visualizations of the cleaned data\n",
        "\n",
        "The final dataset will contain properly typed and formatted data ready for exploratory analysis and modeling."
      ],
      "metadata": {
        "id": "e3HjvgIbSmRq"
      }
    },
    {
      "cell_type": "code",
      "source": [
        "# 5.2 Save Cleaned Data to CSV\n",
        "# Set the output filename\n",
        "output_file = 'spacex_cleaned_data.csv'\n",
        "\n",
        "# Save to CSV\n",
        "df_cleaned_final.to_csv(output_file, index=False)\n",
        "print(f\"\\n✅ Cleaned CSV saved as '{output_file}'\")\n",
        "\n",
        "# For Google Colab: Enable download of the cleaned file\n",
        "try:\n",
        "    from google.colab import files\n",
        "    print(\"\\n📥 Downloading file...\")\n",
        "    files.download(output_file)\n",
        "except ImportError:\n",
        "    print(\"\\n💾 File saved locally. Download not needed.\")"
      ],
      "metadata": {
        "colab": {
          "base_uri": "https://localhost:8080/",
          "height": 92
        },
        "id": "Y1s0n_QiSo5f",
        "outputId": "709d005d-4acc-4ac3-beeb-1756a8c8ee76"
      },
      "execution_count": 16,
      "outputs": [
        {
          "output_type": "stream",
          "name": "stdout",
          "text": [
            "\n",
            "✅ Cleaned CSV saved as 'spacex_cleaned_data.csv'\n",
            "\n",
            "📥 Downloading file...\n"
          ]
        },
        {
          "output_type": "display_data",
          "data": {
            "text/plain": [
              "<IPython.core.display.Javascript object>"
            ],
            "application/javascript": [
              "\n",
              "    async function download(id, filename, size) {\n",
              "      if (!google.colab.kernel.accessAllowed) {\n",
              "        return;\n",
              "      }\n",
              "      const div = document.createElement('div');\n",
              "      const label = document.createElement('label');\n",
              "      label.textContent = `Downloading \"${filename}\": `;\n",
              "      div.appendChild(label);\n",
              "      const progress = document.createElement('progress');\n",
              "      progress.max = size;\n",
              "      div.appendChild(progress);\n",
              "      document.body.appendChild(div);\n",
              "\n",
              "      const buffers = [];\n",
              "      let downloaded = 0;\n",
              "\n",
              "      const channel = await google.colab.kernel.comms.open(id);\n",
              "      // Send a message to notify the kernel that we're ready.\n",
              "      channel.send({})\n",
              "\n",
              "      for await (const message of channel.messages) {\n",
              "        // Send a message to notify the kernel that we're ready.\n",
              "        channel.send({})\n",
              "        if (message.buffers) {\n",
              "          for (const buffer of message.buffers) {\n",
              "            buffers.push(buffer);\n",
              "            downloaded += buffer.byteLength;\n",
              "            progress.value = downloaded;\n",
              "          }\n",
              "        }\n",
              "      }\n",
              "      const blob = new Blob(buffers, {type: 'application/binary'});\n",
              "      const a = document.createElement('a');\n",
              "      a.href = window.URL.createObjectURL(blob);\n",
              "      a.download = filename;\n",
              "      div.appendChild(a);\n",
              "      a.click();\n",
              "      div.remove();\n",
              "    }\n",
              "  "
            ]
          },
          "metadata": {}
        },
        {
          "output_type": "display_data",
          "data": {
            "text/plain": [
              "<IPython.core.display.Javascript object>"
            ],
            "application/javascript": [
              "download(\"download_fa23f4ac-a681-4d84-94cf-d8388345d529\", \"spacex_cleaned_data.csv\", 9414)"
            ]
          },
          "metadata": {}
        }
      ]
    }
  ]
}