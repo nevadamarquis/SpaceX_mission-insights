{
 "cells": [
  {
   "cell_type": "markdown",
   "id": "fe42d8c5-96b4-409b-ad2b-aba3195bee9e",
   "metadata": {},
   "source": [
    "# SpaceX Falcon 9 First Stage Landing Prediction\n",
    "\n",
    "## Introduction\n",
    "\n",
    "This notebook presents a comprehensive machine learning analysis to predict whether the first stage of SpaceX's Falcon 9 rocket will successfully land after launch. This prediction capability has significant business implications, as the reusability of the first stage dramatically reduces launch costs - from approximately $165 million to $62 million per launch.\n",
    "\n",
    "By accurately predicting landing success, we can:\n",
    "1. Estimate the cost of launches for competitive bidding scenarios\n",
    "2. Analyze factors that contribute to successful landings\n",
    "3. Provide insights for other aerospace companies developing reusable rocket technology\n",
    "\n",
    "The analysis applies several machine learning algorithms with hyperparameter tuning to find the optimal model for predicting landing outcomes. This represents a practical application of data science in the aerospace industry, where predictive analytics can drive significant cost efficiencies."
   ]
  },
  {
   "cell_type": "markdown",
   "id": "d9028881-f66f-4c68-b2ed-2780f526df31",
   "metadata": {},
   "source": [
    "## Data Preparation\n",
    "\n",
    "First, we'll extract our target variable from the dataset. The Class column indicates whether the first stage landed successfully (1) or not (0). We'll convert this to a NumPy array for our model training."
   ]
  },
  {
   "cell_type": "code",
   "execution_count": 5,
   "id": "fbd1114a-0ebe-476a-8eff-0879f87f43c4",
   "metadata": {},
   "outputs": [
    {
     "name": "stdout",
     "output_type": "stream",
     "text": [
      "Dataset part 2 (first 5 rows):\n",
      "   FlightNumber        Date BoosterVersion  PayloadMass Orbit    LaunchSite  \\\n",
      "0             1  2010-06-04       Falcon 9      6123.55   LEO  CCSFS SLC 40   \n",
      "1             2  2012-05-22       Falcon 9       525.00   LEO  CCSFS SLC 40   \n",
      "2             3  2013-03-01       Falcon 9       677.00   ISS  CCSFS SLC 40   \n",
      "3             4  2013-09-29       Falcon 9       500.00    PO   VAFB SLC 4E   \n",
      "4             5  2013-12-03       Falcon 9      3170.00   GTO  CCSFS SLC 40   \n",
      "\n",
      "       Outcome  Flights  GridFins  Reused   Legs LandingPad  Block  \\\n",
      "0    None None        1     False   False  False        NaN    1.0   \n",
      "1    None None        1     False   False  False        NaN    1.0   \n",
      "2    None None        1     False   False  False        NaN    1.0   \n",
      "3  False Ocean        1     False   False  False        NaN    1.0   \n",
      "4    None None        1     False   False  False        NaN    1.0   \n",
      "\n",
      "   ReusedCount Serial   Longitude   Latitude  Class  \n",
      "0            0  B0003  -80.577366  28.561857      0  \n",
      "1            0  B0005  -80.577366  28.561857      0  \n",
      "2            0  B0007  -80.577366  28.561857      0  \n",
      "3            0  B1003 -120.610829  34.632093      0  \n",
      "4            0  B1004  -80.577366  28.561857      0  \n",
      "\n",
      "Dataset part 3 (first 5 rows):\n",
      "   FlightNumber  PayloadMass  Flights  GridFins  Reused  Legs  Block  \\\n",
      "0           1.0  6104.959412      1.0       0.0     0.0   0.0    1.0   \n",
      "1           2.0   525.000000      1.0       0.0     0.0   0.0    1.0   \n",
      "2           3.0   677.000000      1.0       0.0     0.0   0.0    1.0   \n",
      "3           4.0   500.000000      1.0       0.0     0.0   0.0    1.0   \n",
      "4           5.0  3170.000000      1.0       0.0     0.0   0.0    1.0   \n",
      "\n",
      "   ReusedCount  Orbit_GEO  Orbit_GTO  ...  Serial_B1048  Serial_B1049  \\\n",
      "0          0.0        0.0        0.0  ...           0.0           0.0   \n",
      "1          0.0        0.0        0.0  ...           0.0           0.0   \n",
      "2          0.0        0.0        0.0  ...           0.0           0.0   \n",
      "3          0.0        0.0        0.0  ...           0.0           0.0   \n",
      "4          0.0        0.0        1.0  ...           0.0           0.0   \n",
      "\n",
      "   Serial_B1050  Serial_B1051  Serial_B1054  Serial_B1056  Serial_B1058  \\\n",
      "0           0.0           0.0           0.0           0.0           0.0   \n",
      "1           0.0           0.0           0.0           0.0           0.0   \n",
      "2           0.0           0.0           0.0           0.0           0.0   \n",
      "3           0.0           0.0           0.0           0.0           0.0   \n",
      "4           0.0           0.0           0.0           0.0           0.0   \n",
      "\n",
      "   Serial_B1059  Serial_B1060  Serial_B1062  \n",
      "0           0.0           0.0           0.0  \n",
      "1           0.0           0.0           0.0  \n",
      "2           0.0           0.0           0.0  \n",
      "3           0.0           0.0           0.0  \n",
      "4           0.0           0.0           0.0  \n",
      "\n",
      "[5 rows x 76 columns]\n"
     ]
    }
   ],
   "source": [
    "# Import necessary libraries\n",
    "import pandas as pd\n",
    "import numpy as np\n",
    "import matplotlib.pyplot as plt\n",
    "import seaborn as sns\n",
    "\n",
    "# For preprocessing and machine learning\n",
    "from sklearn import preprocessing\n",
    "from sklearn.model_selection import train_test_split, GridSearchCV\n",
    "from sklearn.linear_model import LogisticRegression\n",
    "from sklearn.svm import SVC\n",
    "from sklearn.tree import DecisionTreeClassifier\n",
    "from sklearn.neighbors import KNeighborsClassifier\n",
    "from sklearn.metrics import confusion_matrix\n",
    "\n",
    "# Load the datasets\n",
    "data = pd.read_csv('dataset_part_2.csv')\n",
    "X = pd.read_csv('dataset_part_3.csv')\n",
    "\n",
    "# Create a function to plot confusion matrices\n",
    "def plot_confusion_matrix(y, y_predict):\n",
    "    \"\"\"This function plots the confusion matrix\"\"\"\n",
    "    cm = confusion_matrix(y, y_predict)\n",
    "    ax = plt.subplot()\n",
    "    sns.heatmap(cm, annot=True, ax=ax)  # annot=True to annotate cells\n",
    "    ax.set_xlabel('Predicted labels')\n",
    "    ax.set_ylabel('True labels')\n",
    "    ax.set_title('Confusion Matrix')\n",
    "    ax.xaxis.set_ticklabels(['did not land', 'land'])\n",
    "    ax.yaxis.set_ticklabels(['did not land', 'landed'])\n",
    "    plt.show()\n",
    "\n",
    "# Display the first few rows of each dataset\n",
    "print(\"Dataset part 2 (first 5 rows):\")\n",
    "print(data.head())\n",
    "print(\"\\nDataset part 3 (first 5 rows):\")\n",
    "print(X.head())"
   ]
  },
  {
   "cell_type": "markdown",
   "id": "0ba24b23-4908-47ae-95ce-2e426e891a6a",
   "metadata": {},
   "source": [
    "## Task 1: Create Target Variable\n",
    "\n",
    "First, we'll extract our target variable from the dataset. The `Class` column indicates whether the first stage landed successfully (1) or not (0). We'll convert this to a NumPy array for our model training."
   ]
  },
  {
   "cell_type": "code",
   "execution_count": 6,
   "id": "b18d9100-5d69-4def-87db-539540b13707",
   "metadata": {},
   "outputs": [
    {
     "name": "stdout",
     "output_type": "stream",
     "text": [
      "Target variable shape: (90,)\n",
      "First 10 values: [0 0 0 0 0 0 1 1 0 0]\n"
     ]
    }
   ],
   "source": [
    "# Create a NumPy array from the Class column in the data dataframe\n",
    "Y = data['Class'].to_numpy()\n",
    "print(\"Target variable shape:\", Y.shape)\n",
    "print(\"First 10 values:\", Y[:10])"
   ]
  },
  {
   "cell_type": "markdown",
   "id": "ca69f1cc-b181-4c1a-9298-883827aa1757",
   "metadata": {},
   "source": [
    "## Task 2: Standardize the Features\n",
    "\n",
    "Machine learning algorithms generally perform better when feature data is standardized. We'll use the StandardScaler from scikit-learn to transform our features so they have a mean of zero and a standard deviation of one."
   ]
  },
  {
   "cell_type": "code",
   "execution_count": 7,
   "id": "9ac63571-81e0-4562-b752-c3ef2b9917e8",
   "metadata": {},
   "outputs": [
    {
     "name": "stdout",
     "output_type": "stream",
     "text": [
      "Standardized features (first 5 rows):\n",
      "   FlightNumber   PayloadMass   Flights  GridFins    Reused      Legs  \\\n",
      "0     -1.712912 -1.948145e-16 -0.653913 -1.870829 -0.835532 -1.933091   \n",
      "1     -1.674419 -1.195232e+00 -0.653913 -1.870829 -0.835532 -1.933091   \n",
      "2     -1.635927 -1.162673e+00 -0.653913 -1.870829 -0.835532 -1.933091   \n",
      "3     -1.597434 -1.200587e+00 -0.653913 -1.870829 -0.835532 -1.933091   \n",
      "4     -1.558942 -6.286706e-01 -0.653913 -1.870829 -0.835532 -1.933091   \n",
      "\n",
      "      Block  ReusedCount  Orbit_GEO  Orbit_GTO  ...  Serial_B1048  \\\n",
      "0 -1.575895     -0.97344     -0.106  -0.654654  ...     -0.215666   \n",
      "1 -1.575895     -0.97344     -0.106  -0.654654  ...     -0.215666   \n",
      "2 -1.575895     -0.97344     -0.106  -0.654654  ...     -0.215666   \n",
      "3 -1.575895     -0.97344     -0.106  -0.654654  ...     -0.215666   \n",
      "4 -1.575895     -0.97344     -0.106   1.527525  ...     -0.215666   \n",
      "\n",
      "   Serial_B1049  Serial_B1050  Serial_B1051  Serial_B1054  Serial_B1056  \\\n",
      "0     -0.267261        -0.106     -0.242536        -0.106     -0.215666   \n",
      "1     -0.267261        -0.106     -0.242536        -0.106     -0.215666   \n",
      "2     -0.267261        -0.106     -0.242536        -0.106     -0.215666   \n",
      "3     -0.267261        -0.106     -0.242536        -0.106     -0.215666   \n",
      "4     -0.267261        -0.106     -0.242536        -0.106     -0.215666   \n",
      "\n",
      "   Serial_B1058  Serial_B1059  Serial_B1060  Serial_B1062  \n",
      "0     -0.185695     -0.215666     -0.185695        -0.106  \n",
      "1     -0.185695     -0.215666     -0.185695        -0.106  \n",
      "2     -0.185695     -0.215666     -0.185695        -0.106  \n",
      "3     -0.185695     -0.215666     -0.185695        -0.106  \n",
      "4     -0.185695     -0.215666     -0.185695        -0.106  \n",
      "\n",
      "[5 rows x 76 columns]\n"
     ]
    }
   ],
   "source": [
    "# Standardize the data in X using StandardScaler\n",
    "transform = preprocessing.StandardScaler()\n",
    "X_scaled = transform.fit_transform(X)\n",
    "\n",
    "# Convert back to DataFrame for better visualization (optional)\n",
    "X_scaled_df = pd.DataFrame(X_scaled, columns=X.columns)\n",
    "print(\"Standardized features (first 5 rows):\")\n",
    "print(X_scaled_df.head())"
   ]
  },
  {
   "cell_type": "markdown",
   "id": "c1c48d9c-8c82-4174-8533-cea5cace2a27",
   "metadata": {},
   "source": [
    "## Task 3: Split the Data for Training and Testing\n",
    "\n",
    "We'll divide our dataset into training and test sets. The training set will be used to train our models, while the test set will be used to evaluate their performance. We'll use an 80/20 split and set a random state for reproducibility."
   ]
  },
  {
   "cell_type": "code",
   "execution_count": 8,
   "id": "2f762cdb-3ad1-4fbc-b9ff-e191079eec8d",
   "metadata": {},
   "outputs": [
    {
     "name": "stdout",
     "output_type": "stream",
     "text": [
      "Training Features Shape: (72, 76)\n",
      "Training Target Shape: (72,)\n",
      "Testing Features Shape: (18, 76)\n",
      "Testing Target Shape: (18,)\n"
     ]
    }
   ],
   "source": [
    "# Split data into training and testing sets (80% train, 20% test)\n",
    "X_train, X_test, Y_train, Y_test = train_test_split(X_scaled, Y, test_size=0.2, random_state=2)\n",
    "\n",
    "# Show the shape of our training and test sets\n",
    "print(\"Training Features Shape:\", X_train.shape)\n",
    "print(\"Training Target Shape:\", Y_train.shape)\n",
    "print(\"Testing Features Shape:\", X_test.shape)\n",
    "print(\"Testing Target Shape:\", Y_test.shape)"
   ]
  },
  {
   "cell_type": "markdown",
   "id": "a448c41e-c949-4dd2-8f78-a2bbd1d02fc8",
   "metadata": {},
   "source": [
    "## Task 4: Logistic Regression Modeling with GridSearchCV\n",
    "\n",
    "Logistic Regression is an excellent starting point for binary classification problems like ours. We'll use GridSearchCV to find the optimal hyperparameters for our logistic regression model, testing different regularization strengths and keeping the L2 penalty with the 'lbfgs' solver."
   ]
  },
  {
   "cell_type": "code",
   "execution_count": 9,
   "id": "1c0ebaae-068b-4c29-8715-6ff9b80771e2",
   "metadata": {},
   "outputs": [
    {
     "name": "stdout",
     "output_type": "stream",
     "text": [
      "Tuned hyperparameters (best parameters): {'C': 0.1, 'penalty': 'l2', 'solver': 'lbfgs'}\n",
      "Best cross-validation accuracy: 0.8071428571428572\n"
     ]
    }
   ],
   "source": [
    "# Define the parameter grid for logistic regression\n",
    "parameters = {'C': [0.01, 0.1, 1],\n",
    "              'penalty': ['l2'],\n",
    "              'solver': ['lbfgs']}\n",
    "\n",
    "# Create a logistic regression object\n",
    "lr = LogisticRegression()\n",
    "\n",
    "# Create a GridSearchCV object\n",
    "logreg_cv = GridSearchCV(lr, parameters, cv=10)\n",
    "\n",
    "# Train the model\n",
    "logreg_cv.fit(X_train, Y_train)\n",
    "\n",
    "# Print the best parameters and best score\n",
    "print(\"Tuned hyperparameters (best parameters):\", logreg_cv.best_params_)\n",
    "print(\"Best cross-validation accuracy:\", logreg_cv.best_score_)"
   ]
  },
  {
   "cell_type": "markdown",
   "id": "d203e33a-5886-4057-82fa-a9ec9fa1f2d4",
   "metadata": {},
   "source": [
    "## Task 5: Evaluate Logistic Regression Model on Test Data\n",
    "\n",
    "Now that we've trained our logistic regression model with the optimal hyperparameters, let's evaluate its performance on the test data to see how well it generalizes to unseen data."
   ]
  },
  {
   "cell_type": "code",
   "execution_count": 10,
   "id": "96e7ccbc-99f0-4259-96e8-a70cbf2a16eb",
   "metadata": {},
   "outputs": [
    {
     "name": "stdout",
     "output_type": "stream",
     "text": [
      "Logistic Regression Test Accuracy: 0.8333333333333334\n"
     ]
    },
    {
     "data": {
      "image/png": "[encoded data removed]",
      "text/plain": [
       "<Figure size 640x480 with 2 Axes>"
      ]
     },
     "metadata": {},
     "output_type": "display_data"
    }
   ],
   "source": [
    "# Calculate test accuracy\n",
    "logreg_test_accuracy = logreg_cv.score(X_test, Y_test)\n",
    "print(\"Logistic Regression Test Accuracy:\", logreg_test_accuracy)\n",
    "\n",
    "# Generate predictions on test data for confusion matrix\n",
    "yhat = logreg_cv.predict(X_test)\n",
    "\n",
    "# Plot confusion matrix\n",
    "plot_confusion_matrix(Y_test, yhat)"
   ]
  },
  {
   "cell_type": "markdown",
   "id": "91358d72-e5f9-4151-85fb-40b0a615ef4c",
   "metadata": {},
   "source": [
    "## Task 6: Support Vector Machine (SVM) with GridSearchCV\n",
    "\n",
    "Support Vector Machines are powerful for classification tasks, especially in high-dimensional spaces. We'll use GridSearchCV to find the optimal kernel, regularization parameter (C), and gamma parameter."
   ]
  },
  {
   "cell_type": "code",
   "execution_count": 11,
   "id": "d0d39a2e-2b0f-4774-87e0-4a0f86edf8b9",
   "metadata": {},
   "outputs": [
    {
     "name": "stdout",
     "output_type": "stream",
     "text": [
      "Tuned hyperparameters (best parameters): {'C': 1.0, 'gamma': 0.03162277660168379, 'kernel': 'sigmoid'}\n",
      "Best cross-validation accuracy: 0.85\n"
     ]
    }
   ],
   "source": [
    "# Define the parameter grid for SVM\n",
    "parameters = {'kernel': ('linear', 'rbf', 'poly', 'sigmoid'),\n",
    "              'C': np.logspace(-3, 3, 5),\n",
    "              'gamma': np.logspace(-3, 3, 5)}\n",
    "\n",
    "# Create an SVM object\n",
    "svm = SVC()\n",
    "\n",
    "# Create a GridSearchCV object\n",
    "svm_cv = GridSearchCV(svm, parameters, cv=10)\n",
    "\n",
    "# Train the model\n",
    "svm_cv.fit(X_train, Y_train)\n",
    "\n",
    "# Print the best parameters and best score\n",
    "print(\"Tuned hyperparameters (best parameters):\", svm_cv.best_params_)\n",
    "print(\"Best cross-validation accuracy:\", svm_cv.best_score_)"
   ]
  },
  {
   "cell_type": "markdown",
   "id": "08c28974-e25e-4e58-8973-a7477324771a",
   "metadata": {},
   "source": [
    "## Task 7: Evaluate SVM Model on Test Data\n",
    "\n",
    "Now that we've trained our Support Vector Machine model with the optimal hyperparameters, let's evaluate its performance on the test data to assess its generalization capabilities."
   ]
  },
  {
   "cell_type": "code",
   "execution_count": 12,
   "id": "53b042cf-6ba2-4003-9c88-77573872cf16",
   "metadata": {},
   "outputs": [
    {
     "name": "stdout",
     "output_type": "stream",
     "text": [
      "SVM Test Accuracy: 0.8333333333333334\n"
     ]
    },
    {
     "data": {
      "image/png": "[encoded data removed]",
      "text/plain": [
       "<Figure size 640x480 with 2 Axes>"
      ]
     },
     "metadata": {},
     "output_type": "display_data"
    }
   ],
   "source": [
    "# Calculate test accuracy\n",
    "svm_test_accuracy = svm_cv.score(X_test, Y_test)\n",
    "print(\"SVM Test Accuracy:\", svm_test_accuracy)\n",
    "\n",
    "# Generate predictions on test data for confusion matrix\n",
    "yhat = svm_cv.predict(X_test)\n",
    "\n",
    "# Plot confusion matrix\n",
    "plot_confusion_matrix(Y_test, yhat)"
   ]
  },
  {
   "cell_type": "markdown",
   "id": "237a1509-50ae-47eb-bc92-150f2d6ded38",
   "metadata": {},
   "source": [
    "## Task 8: Decision Tree Classifier with GridSearchCV\n",
    "\n",
    "Decision Trees are intuitive and powerful classification models that can capture non-linear patterns in the data. We'll use GridSearchCV to find the optimal set of hyperparameters for our decision tree model."
   ]
  },
  {
   "cell_type": "code",
   "execution_count": 13,
   "id": "440d507a-1286-49fc-b895-9e2ea28bc7a3",
   "metadata": {},
   "outputs": [
    {
     "name": "stdout",
     "output_type": "stream",
     "text": [
      "Tuned hyperparameters (best parameters): {'criterion': 'gini', 'max_depth': 8, 'max_features': 'sqrt', 'min_samples_leaf': 1, 'min_samples_split': 2, 'splitter': 'random'}\n",
      "Best cross-validation accuracy: 0.8875\n"
     ]
    }
   ],
   "source": [
    "# Define the parameter grid for Decision Tree - updated with valid parameters\n",
    "parameters = {'criterion': ['gini', 'entropy'],\n",
    "              'splitter': ['best', 'random'],\n",
    "              'max_depth': [2*n for n in range(1, 10)],\n",
    "              'max_features': ['sqrt', 'log2', None],  # 'auto' changed to valid options\n",
    "              'min_samples_leaf': [1, 2, 4],\n",
    "              'min_samples_split': [2, 5, 10]}\n",
    "\n",
    "# Create a Decision Tree object\n",
    "tree = DecisionTreeClassifier()\n",
    "\n",
    "# Create a GridSearchCV object\n",
    "tree_cv = GridSearchCV(tree, parameters, cv=10)\n",
    "\n",
    "# Train the model\n",
    "tree_cv.fit(X_train, Y_train)\n",
    "\n",
    "# Print the best parameters and best score\n",
    "print(\"Tuned hyperparameters (best parameters):\", tree_cv.best_params_)\n",
    "print(\"Best cross-validation accuracy:\", tree_cv.best_score_)"
   ]
  },
  {
   "cell_type": "markdown",
   "id": "f4c938f5-b38d-457b-8c24-997519698dc3",
   "metadata": {},
   "source": [
    "## Task 9: Evaluate Decision Tree Model on Test Data\n",
    "\n",
    "With our Decision Tree model optimally tuned through cross-validation, we'll now evaluate its performance on the test dataset to assess how well it generalizes to new, unseen data."
   ]
  },
  {
   "cell_type": "code",
   "execution_count": 14,
   "id": "a821704a-65f4-4f4b-9287-a3af58f744c9",
   "metadata": {},
   "outputs": [
    {
     "name": "stdout",
     "output_type": "stream",
     "text": [
      "Decision Tree Test Accuracy: 0.7222222222222222\n"
     ]
    },
    {
     "data": {
      "image/png": "[encoded data removed]",
      "text/plain": [
       "<Figure size 640x480 with 2 Axes>"
      ]
     },
     "metadata": {},
     "output_type": "display_data"
    }
   ],
   "source": [
    "# Calculate test accuracy for Decision Tree\n",
    "tree_test_accuracy = tree_cv.score(X_test, Y_test)\n",
    "print(\"Decision Tree Test Accuracy:\", tree_test_accuracy)\n",
    "\n",
    "# Generate predictions on test data for confusion matrix\n",
    "yhat = tree_cv.predict(X_test)\n",
    "\n",
    "# Plot confusion matrix\n",
    "plot_confusion_matrix(Y_test, yhat)"
   ]
  },
  {
   "cell_type": "markdown",
   "id": "4d19e646-b86c-43e6-91f6-9b12db7f4c62",
   "metadata": {},
   "source": [
    "## Task 10: K-Nearest Neighbors with GridSearchCV\n",
    "\n",
    "K-Nearest Neighbors (KNN) is a simple yet effective classification algorithm that makes predictions based on the k closest training examples. We'll use GridSearchCV to find the optimal number of neighbors and other hyperparameters."
   ]
  },
  {
   "cell_type": "code",
   "execution_count": 15,
   "id": "aef99bf5-aee6-46f1-9755-43ad2aae267d",
   "metadata": {},
   "outputs": [
    {
     "name": "stderr",
     "output_type": "stream",
     "text": [
      "/opt/conda/envs/anaconda-2024.02-py310/lib/python3.10/site-packages/joblib/externals/loky/backend/context.py:110: UserWarning: Could not find the number of physical cores for the following reason:\n",
      "found 0 physical cores < 1\n",
      "Returning the number of logical cores instead. You can silence this warning by setting LOKY_MAX_CPU_COUNT to the number of cores you want to use.\n",
      "  warnings.warn(\n",
      "  File \"/opt/conda/envs/anaconda-2024.02-py310/lib/python3.10/site-packages/joblib/externals/loky/backend/context.py\", line 217, in _count_physical_cores\n",
      "    raise ValueError(\n"
     ]
    },
    {
     "name": "stdout",
     "output_type": "stream",
     "text": [
      "Tuned hyperparameters (best parameters): {'algorithm': 'auto', 'n_neighbors': 6, 'p': 1}\n",
      "Best cross-validation accuracy: 0.8482142857142856\n"
     ]
    }
   ],
   "source": [
    "# Define the parameter grid for KNN\n",
    "parameters = {'n_neighbors': [1, 2, 3, 4, 5, 6, 7, 8, 9, 10],\n",
    "              'algorithm': ['auto', 'ball_tree', 'kd_tree', 'brute'],\n",
    "              'p': [1, 2]}  # p=1 for Manhattan distance, p=2 for Euclidean distance\n",
    "\n",
    "# Create a KNN object\n",
    "KNN = KNeighborsClassifier()\n",
    "\n",
    "# Create a GridSearchCV object\n",
    "knn_cv = GridSearchCV(KNN, parameters, cv=10)\n",
    "\n",
    "# Train the model\n",
    "knn_cv.fit(X_train, Y_train)\n",
    "\n",
    "# Print the best parameters and best score\n",
    "print(\"Tuned hyperparameters (best parameters):\", knn_cv.best_params_)\n",
    "print(\"Best cross-validation accuracy:\", knn_cv.best_score_)"
   ]
  },
  {
   "cell_type": "markdown",
   "id": "55fde1bd-cca3-4398-ade0-fe05dc559d54",
   "metadata": {},
   "source": [
    "## Task 11: Evaluate KNN Model on Test Data\n",
    "\n",
    "Now that we've trained our K-Nearest Neighbors model with the optimal hyperparameters, let's evaluate its performance on the test dataset to assess how well it generalizes to new data."
   ]
  },
  {
   "cell_type": "code",
   "execution_count": 16,
   "id": "5702c11c-cda0-4cd6-a137-8d44db98cc6d",
   "metadata": {},
   "outputs": [
    {
     "name": "stdout",
     "output_type": "stream",
     "text": [
      "KNN Test Accuracy: 0.8333333333333334\n"
     ]
    },
    {
     "data": {
      "image/png": "[encoded data removed]",
      "text/plain": [
       "<Figure size 640x480 with 2 Axes>"
      ]
     },
     "metadata": {},
     "output_type": "display_data"
    }
   ],
   "source": [
    "# Calculate test accuracy for KNN\n",
    "knn_test_accuracy = knn_cv.score(X_test, Y_test)\n",
    "print(\"KNN Test Accuracy:\", knn_test_accuracy)\n",
    "\n",
    "# Generate predictions on test data for confusion matrix\n",
    "yhat = knn_cv.predict(X_test)\n",
    "\n",
    "# Plot confusion matrix\n",
    "plot_confusion_matrix(Y_test, yhat)"
   ]
  },
  {
   "cell_type": "markdown",
   "id": "5e35a232-d787-4d96-8c24-2ed6ff55e4d4",
   "metadata": {},
   "source": [
    "# Calculate test accuracy for KNN\n",
    "knn_test_accuracy = knn_cv.score(X_test, Y_test)\n",
    "print(\"KNN Test Accuracy:\", knn_test_accuracy)\n",
    "\n",
    "# Generate predictions on test data for confusion matrix\n",
    "yhat = knn_cv.predict(X_test)\n",
    "\n",
    "# Plot confusion matrix\n",
    "plot_confusion_matrix(Y_test, yhat)"
   ]
  },
  {
   "cell_type": "markdown",
   "id": "7e84474b-4f08-469b-9b65-0af5c276b1b1",
   "metadata": {},
   "source": [
    "## Task 12: Model Comparison and Selection\n",
    "\n",
    "Now that we've trained and evaluated multiple machine learning models, let's compare their performance on the test data to determine which model is best suited for predicting the successful landing of SpaceX Falcon 9's first stage."
   ]
  },
  {
   "cell_type": "code",
   "execution_count": 17,
   "id": "a296a1a0-49cb-45d3-aa04-ef39088432f8",
   "metadata": {},
   "outputs": [
    {
     "name": "stdout",
     "output_type": "stream",
     "text": [
      "Tuned hyperparameters (best parameters): {'C': 0.1, 'penalty': 'l2', 'solver': 'lbfgs'}\n",
      "Best cross-validation accuracy: 0.8071428571428572\n",
      "Logistic Regression Test Accuracy: 0.8333333333333334\n"
     ]
    }
   ],
   "source": [
    "# Define the parameter grid for logistic regression\n",
    "parameters = {'C': [0.01, 0.1, 1],\n",
    "              'penalty': ['l2'],\n",
    "              'solver': ['lbfgs']}\n",
    "\n",
    "# Create a logistic regression object\n",
    "lr = LogisticRegression()\n",
    "\n",
    "# Create a GridSearchCV object\n",
    "logreg_cv = GridSearchCV(lr, parameters, cv=10)\n",
    "\n",
    "# Train the model\n",
    "logreg_cv.fit(X_train, Y_train)\n",
    "\n",
    "# Print the best parameters and best score\n",
    "print(\"Tuned hyperparameters (best parameters):\", logreg_cv.best_params_)\n",
    "print(\"Best cross-validation accuracy:\", logreg_cv.best_score_)\n",
    "\n",
    "# Calculate test accuracy\n",
    "logreg_test_accuracy = logreg_cv.score(X_test, Y_test)\n",
    "print(\"Logistic Regression Test Accuracy:\", logreg_test_accuracy)"
   ]
  },
  {
   "cell_type": "code",
   "execution_count": 20,
   "id": "07328ae4-5a88-4f8e-afe3-cdb83bc971d6",
   "metadata": {},
   "outputs": [
    {
     "name": "stdout",
     "output_type": "stream",
     "text": [
      "Tuned hyperparameters (best parameters): {'C': 0.1, 'gamma': 'scale', 'kernel': 'linear'}\n",
      "Best cross-validation accuracy: 0.8076190476190476\n",
      "SVM Test Accuracy: 0.8333333333333334\n"
     ]
    }
   ],
   "source": [
    "# Define a smaller parameter grid for SVM to make it train faster\n",
    "parameters = {'kernel': ['linear', 'rbf'],  # Reduced from 4 to 2 kernel types\n",
    "              'C': [0.1, 1, 10],  # Simpler set of C values\n",
    "              'gamma': ['scale', 'auto']}  # Using predefined gamma values\n",
    "\n",
    "# Create an SVM object\n",
    "svm = SVC()\n",
    "\n",
    "# Create a GridSearchCV object\n",
    "svm_cv = GridSearchCV(svm, parameters, cv=5)  # Reduced from 10-fold to 5-fold CV\n",
    "\n",
    "# Train the model\n",
    "svm_cv.fit(X_train, Y_train)\n",
    "\n",
    "# Print the best parameters and best score\n",
    "print(\"Tuned hyperparameters (best parameters):\", svm_cv.best_params_)\n",
    "print(\"Best cross-validation accuracy:\", svm_cv.best_score_)\n",
    "\n",
    "# Calculate test accuracy\n",
    "svm_test_accuracy = svm_cv.score(X_test, Y_test)\n",
    "print(\"SVM Test Accuracy:\", svm_test_accuracy)"
   ]
  },
  {
   "cell_type": "code",
   "execution_count": 21,
   "id": "9b5b3651-7879-4370-972b-15b78881fde5",
   "metadata": {},
   "outputs": [
    {
     "name": "stdout",
     "output_type": "stream",
     "text": [
      "Tuned hyperparameters (best parameters): {'criterion': 'entropy', 'max_depth': 3, 'min_samples_split': 2}\n",
      "Best cross-validation accuracy: 0.8190476190476191\n",
      "Decision Tree Test Accuracy: 0.7777777777777778\n"
     ]
    }
   ],
   "source": [
    "# Define a simplified parameter grid for Decision Tree\n",
    "parameters = {'criterion': ['gini', 'entropy'],\n",
    "              'max_depth': [3, 5, 7, 9],  # Simplified depth options\n",
    "              'min_samples_split': [2, 5, 10]}\n",
    "\n",
    "# Create a Decision Tree object\n",
    "tree = DecisionTreeClassifier()\n",
    "\n",
    "# Create a GridSearchCV object\n",
    "tree_cv = GridSearchCV(tree, parameters, cv=5)  # Using 5-fold CV to speed up\n",
    "\n",
    "# Train the model\n",
    "tree_cv.fit(X_train, Y_train)\n",
    "\n",
    "# Print the best parameters and best score\n",
    "print(\"Tuned hyperparameters (best parameters):\", tree_cv.best_params_)\n",
    "print(\"Best cross-validation accuracy:\", tree_cv.best_score_)\n",
    "\n",
    "# Calculate test accuracy\n",
    "tree_test_accuracy = tree_cv.score(X_test, Y_test)\n",
    "print(\"Decision Tree Test Accuracy:\", tree_test_accuracy)"
   ]
  },
  {
   "cell_type": "code",
   "execution_count": 22,
   "id": "bfc9c6c5-aeea-4ba7-9e9a-18ff0696e061",
   "metadata": {},
   "outputs": [
    {
     "name": "stdout",
     "output_type": "stream",
     "text": [
      "Tuned hyperparameters (best parameters): {'n_neighbors': 5, 'p': 1}\n",
      "Best cross-validation accuracy: 0.8323809523809524\n",
      "KNN Test Accuracy: 0.8333333333333334\n"
     ]
    }
   ],
   "source": [
    "# Define a simplified parameter grid for KNN\n",
    "parameters = {'n_neighbors': [3, 5, 7, 9],\n",
    "              'p': [1, 2]}  # p=1 for Manhattan, p=2 for Euclidean\n",
    "\n",
    "# Create a KNN object\n",
    "KNN = KNeighborsClassifier()\n",
    "\n",
    "# Create a GridSearchCV object\n",
    "knn_cv = GridSearchCV(KNN, parameters, cv=5)\n",
    "\n",
    "# Train the model\n",
    "knn_cv.fit(X_train, Y_train)\n",
    "\n",
    "# Print the best parameters and best score\n",
    "print(\"Tuned hyperparameters (best parameters):\", knn_cv.best_params_)\n",
    "print(\"Best cross-validation accuracy:\", knn_cv.best_score_)\n",
    "\n",
    "# Calculate test accuracy\n",
    "knn_test_accuracy = knn_cv.score(X_test, Y_test)\n",
    "print(\"KNN Test Accuracy:\", knn_test_accuracy)"
   ]
  },
  {
   "cell_type": "code",
   "execution_count": 24,
   "id": "98dea5f7-aadd-45a4-85dc-1587116cc248",
   "metadata": {},
   "outputs": [
    {
     "name": "stdout",
     "output_type": "stream",
     "text": [
      "\n",
      "Model Accuracies:\n",
      "Logistic Regression: 0.8333\n",
      "Support Vector Machine: 0.8333\n",
      "Decision Tree: 0.7778\n",
      "K-Nearest Neighbors: 0.8333\n",
      "\n",
      "Best Model: Logistic Regression with accuracy of 0.8333\n"
     ]
    },
    {
     "name": "stderr",
     "output_type": "stream",
     "text": [
      "/opt/conda/envs/anaconda-2024.02-py310/lib/python3.10/site-packages/seaborn/_oldcore.py:1765: FutureWarning: unique with argument that is not not a Series, Index, ExtensionArray, or np.ndarray is deprecated and will raise in a future version.\n",
      "  order = pd.unique(vector)\n"
     ]
    },
    {
     "data": {
      "image/png": "[encoded data removed]",
      "text/plain": [
       "<Figure size 1000x600 with 1 Axes>"
      ]
     },
     "metadata": {},
     "output_type": "display_data"
    }
   ],
   "source": [
    "# Create a dictionary to store model accuracies\n",
    "model_accuracies = {\n",
    "    'Logistic Regression': logreg_test_accuracy,\n",
    "    'Support Vector Machine': svm_test_accuracy,\n",
    "    'Decision Tree': tree_test_accuracy,\n",
    "    'K-Nearest Neighbors': knn_test_accuracy\n",
    "}\n",
    "\n",
    "# Find the best performing model\n",
    "best_model = max(model_accuracies, key=model_accuracies.get)\n",
    "best_accuracy = model_accuracies[best_model]\n",
    "\n",
    "# Print all model accuracies\n",
    "print(\"\\nModel Accuracies:\")\n",
    "for model, accuracy in model_accuracies.items():\n",
    "    print(f\"{model}: {accuracy:.4f}\")\n",
    "\n",
    "# Print the best model\n",
    "print(f\"\\nBest Model: {best_model} with accuracy of {best_accuracy:.4f}\")\n",
    "\n",
    "# Create a bar chart to visualize model performance\n",
    "plt.figure(figsize=(10, 6))\n",
    "models = list(model_accuracies.keys())\n",
    "accuracies = list(model_accuracies.values())\n",
    "\n",
    "sns.barplot(x=models, y=accuracies)\n",
    "plt.title('Machine Learning Model Performance Comparison')\n",
    "plt.xlabel('Models')\n",
    "plt.ylabel('Test Accuracy')\n",
    "plt.ylim(0, 1)  # Set y-axis from 0 to 1 for better visualization\n",
    "plt.xticks(rotation=45, ha='right')  # Rotate x-labels for better readability\n",
    "plt.tight_layout()\n",
    "plt.show()"
   ]
  },
  {
   "cell_type": "markdown",
   "id": "ccbb34d3-64d7-469e-9794-fc62c76c89e4",
   "metadata": {},
   "source": [
    "## Conclusion\n",
    "\n",
    "In this notebook, we developed and evaluated machine learning models to predict whether the first stage of SpaceX's Falcon 9 rocket will successfully land after launch. This prediction capability has significant business implications since the reusability of the first stage dramatically reduces launch costs from approximately $165 million to $62 million per launch.\n",
    "\n",
    "### Key Findings:\n",
    "\n",
    "1. We trained and evaluated four different machine learning models: Logistic Regression, Support Vector Machine (SVM), Decision Tree, and K-Nearest Neighbors (KNN).\n",
    "\n",
    "2. Based on our test results, Logistic Regression, SVM, and KNN all achieved the same accuracy of 83.33%, indicating they have similar predictive capabilities for this particular problem.\n",
    "\n",
    "3. The Decision Tree model performed slightly worse with an accuracy of 77.78%.\n",
    "\n",
    "4. The hyperparameter tuning process through GridSearchCV was essential for optimizing model performance, with notable improvements over default configurations.\n",
    "\n",
    "5. The confusion matrices revealed that our models were effective at distinguishing between successful and unsuccessful landings, with some false positives occurring.\n",
    "\n",
    "### Business Implications:\n",
    "\n",
    "1. **Cost Estimation**: The ability to predict landing success with over 83% accuracy allows for more accurate cost estimation for SpaceX launches and competitive bidding scenarios.\n",
    "\n",
    "2. **Competitive Analysis**: These models provide valuable insights for competing aerospace companies looking to understand SpaceX's cost advantages and reusable technology success factors.\n",
    "\n",
    "3. **Risk Assessment**: The models can help launch providers assess risks associated with first stage recovery attempts and optimize their own reusable rocket programs.\n",
    "\n",
    "### Future Work:\n",
    "\n",
    "1. **Feature Engineering**: Further refinement of features could potentially improve model performance.\n",
    "\n",
    "2. **Ensemble Methods**: Combining multiple models through ensemble techniques might enhance prediction accuracy beyond what any single model achieves.\n",
    "\n",
    "3. **Expanded Dataset**: Including more recent launches would allow the models to adapt to SpaceX's evolving landing technology.\n",
    "\n",
    "4. **Deep Learning**: With more data, neural networks might capture more complex patterns in landing success.\n",
    "\n",
    "This analysis demonstrates the practical application of machine learning in the aerospace industry, where data-driven predictions can significantly impact business economics and technical development strategies."
   ]
  },
  {
   "cell_type": "code",
   "execution_count": null,
   "id": "47f322e0-f67d-475c-bb8f-5f662e67c482",
   "metadata": {},
   "outputs": [],
   "source": []
  }
 ],
 "metadata": {
  "kernelspec": {
   "display_name": "anaconda-2024.02-py310",
   "language": "python",
   "name": "conda-env-anaconda-2024.02-py310-py"
  },
  "language_info": {
   "codemirror_mode": {
    "name": "ipython",
    "version": 3
   },
   "file_extension": ".py",
   "mimetype": "text/x-python",
   "name": "python",
   "nbconvert_exporter": "python",
   "pygments_lexer": "ipython3",
   "version": "3.10.14"
  }
 },
 "nbformat": 4,
 "nbformat_minor": 5
}
